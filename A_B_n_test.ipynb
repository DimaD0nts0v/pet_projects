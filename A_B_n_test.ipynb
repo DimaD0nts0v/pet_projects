{
  "cells": [
    {
      "cell_type": "code",
      "source": [
        "! pip install pingouin\n",
        "import pandas as pd\n",
        "import seaborn as sns\n",
        "from datetime import datetime\n",
        "import numpy as np\n",
        "from scipy.stats import levene\n",
        "import pingouin as pg\n",
        "import scipy.stats as ss\n",
        "from itertools import combinations"
      ],
      "metadata": {
        "colab": {
          "base_uri": "https://localhost:8080/"
        },
        "id": "7jQf_HVbI5Tq",
        "outputId": "cfad2821-5c4a-4ec9-f043-1f83887ce18b"
      },
      "execution_count": null,
      "outputs": [
        {
          "output_type": "stream",
          "name": "stdout",
          "text": [
            "Looking in indexes: https://pypi.org/simple, https://us-python.pkg.dev/colab-wheels/public/simple/\n",
            "Requirement already satisfied: pingouin in /usr/local/lib/python3.9/dist-packages (0.5.3)\n",
            "Requirement already satisfied: numpy>=1.19 in /usr/local/lib/python3.9/dist-packages (from pingouin) (1.22.4)\n",
            "Requirement already satisfied: scikit-learn in /usr/local/lib/python3.9/dist-packages (from pingouin) (1.2.2)\n",
            "Requirement already satisfied: statsmodels>=0.13 in /usr/local/lib/python3.9/dist-packages (from pingouin) (0.13.5)\n",
            "Requirement already satisfied: tabulate in /usr/local/lib/python3.9/dist-packages (from pingouin) (0.8.10)\n",
            "Requirement already satisfied: pandas>=1.0 in /usr/local/lib/python3.9/dist-packages (from pingouin) (1.4.4)\n",
            "Requirement already satisfied: matplotlib>=3.0.2 in /usr/local/lib/python3.9/dist-packages (from pingouin) (3.7.1)\n",
            "Requirement already satisfied: pandas-flavor>=0.2.0 in /usr/local/lib/python3.9/dist-packages (from pingouin) (0.5.0)\n",
            "Requirement already satisfied: outdated in /usr/local/lib/python3.9/dist-packages (from pingouin) (0.2.2)\n",
            "Requirement already satisfied: scipy>=1.7 in /usr/local/lib/python3.9/dist-packages (from pingouin) (1.10.1)\n",
            "Requirement already satisfied: seaborn>=0.11 in /usr/local/lib/python3.9/dist-packages (from pingouin) (0.12.2)\n",
            "Requirement already satisfied: fonttools>=4.22.0 in /usr/local/lib/python3.9/dist-packages (from matplotlib>=3.0.2->pingouin) (4.39.3)\n",
            "Requirement already satisfied: python-dateutil>=2.7 in /usr/local/lib/python3.9/dist-packages (from matplotlib>=3.0.2->pingouin) (2.8.2)\n",
            "Requirement already satisfied: packaging>=20.0 in /usr/local/lib/python3.9/dist-packages (from matplotlib>=3.0.2->pingouin) (23.0)\n",
            "Requirement already satisfied: kiwisolver>=1.0.1 in /usr/local/lib/python3.9/dist-packages (from matplotlib>=3.0.2->pingouin) (1.4.4)\n",
            "Requirement already satisfied: contourpy>=1.0.1 in /usr/local/lib/python3.9/dist-packages (from matplotlib>=3.0.2->pingouin) (1.0.7)\n",
            "Requirement already satisfied: pillow>=6.2.0 in /usr/local/lib/python3.9/dist-packages (from matplotlib>=3.0.2->pingouin) (8.4.0)\n",
            "Requirement already satisfied: pyparsing>=2.3.1 in /usr/local/lib/python3.9/dist-packages (from matplotlib>=3.0.2->pingouin) (3.0.9)\n",
            "Requirement already satisfied: importlib-resources>=3.2.0 in /usr/local/lib/python3.9/dist-packages (from matplotlib>=3.0.2->pingouin) (5.12.0)\n",
            "Requirement already satisfied: cycler>=0.10 in /usr/local/lib/python3.9/dist-packages (from matplotlib>=3.0.2->pingouin) (0.11.0)\n",
            "Requirement already satisfied: pytz>=2020.1 in /usr/local/lib/python3.9/dist-packages (from pandas>=1.0->pingouin) (2022.7.1)\n",
            "Requirement already satisfied: lazy-loader>=0.1 in /usr/local/lib/python3.9/dist-packages (from pandas-flavor>=0.2.0->pingouin) (0.2)\n",
            "Requirement already satisfied: xarray in /usr/local/lib/python3.9/dist-packages (from pandas-flavor>=0.2.0->pingouin) (2022.12.0)\n",
            "Requirement already satisfied: patsy>=0.5.2 in /usr/local/lib/python3.9/dist-packages (from statsmodels>=0.13->pingouin) (0.5.3)\n",
            "Requirement already satisfied: littleutils in /usr/local/lib/python3.9/dist-packages (from outdated->pingouin) (0.2.2)\n",
            "Requirement already satisfied: requests in /usr/local/lib/python3.9/dist-packages (from outdated->pingouin) (2.27.1)\n",
            "Requirement already satisfied: setuptools>=44 in /usr/local/lib/python3.9/dist-packages (from outdated->pingouin) (67.6.1)\n",
            "Requirement already satisfied: threadpoolctl>=2.0.0 in /usr/local/lib/python3.9/dist-packages (from scikit-learn->pingouin) (3.1.0)\n",
            "Requirement already satisfied: joblib>=1.1.1 in /usr/local/lib/python3.9/dist-packages (from scikit-learn->pingouin) (1.1.1)\n",
            "Requirement already satisfied: zipp>=3.1.0 in /usr/local/lib/python3.9/dist-packages (from importlib-resources>=3.2.0->matplotlib>=3.0.2->pingouin) (3.15.0)\n",
            "Requirement already satisfied: six in /usr/local/lib/python3.9/dist-packages (from patsy>=0.5.2->statsmodels>=0.13->pingouin) (1.16.0)\n",
            "Requirement already satisfied: idna<4,>=2.5 in /usr/local/lib/python3.9/dist-packages (from requests->outdated->pingouin) (3.4)\n",
            "Requirement already satisfied: charset-normalizer~=2.0.0 in /usr/local/lib/python3.9/dist-packages (from requests->outdated->pingouin) (2.0.12)\n",
            "Requirement already satisfied: urllib3<1.27,>=1.21.1 in /usr/local/lib/python3.9/dist-packages (from requests->outdated->pingouin) (1.26.15)\n",
            "Requirement already satisfied: certifi>=2017.4.17 in /usr/local/lib/python3.9/dist-packages (from requests->outdated->pingouin) (2022.12.7)\n"
          ]
        }
      ]
    },
    {
      "cell_type": "code",
      "source": [
        "sns.set(\n",
        "    rc={\n",
        "        \"figure.figsize\": (8, 4), #размер графика - 12 дюймов в ширину, 8 в длину\n",
        "        \"axes.titlesize\": 14, #размер заголовка \n",
        "        \"axes.labelsize\": 10, #размер подписей осей\n",
        "        \"xtick.labelsize\": 8, #размер подписей чёрточек на x-оси\n",
        "        \"ytick.labelsize\": 8, #размер подписей чёрточек на y-оси\n",
        "    }\n",
        ")\n",
        "sns.set_style(\"whitegrid\") #тема фона, белая со штриховкой"
      ],
      "metadata": {
        "id": "T23BM8F1JHk1"
      },
      "execution_count": null,
      "outputs": []
    },
    {
      "cell_type": "markdown",
      "metadata": {
        "id": "m3QwRuqaxS6b"
      },
      "source": [
        "# Описание данных\n",
        "В переменные users и purchases (pands.DataFrame) уже загружены данные о пользователях, попавших в а/б тест и их покупках.\n",
        "\n",
        "А/б тест направлен на улучшение платежной активности пользователей. Вам дан датасет с транзакциями пользователей до и во время теста в контрольной и тестовых группах\n",
        "\n",
        "Задача:\n",
        "\n",
        "\n",
        "*   ознакомиться с данными\n",
        "*   Исходя из имеющихся данных посчитать 2-3 метрики по группам; объяснить свой выбор\n",
        "\n",
        "\n",
        "\n",
        "\n",
        "Описание данных:\n",
        "\n",
        "В таблице users_ приведена информация о том, какой юзер в какой момент времени попал в а/б тест:\n",
        "- tag - лэйбл группы (control - контрольная, остальные - тестовые)\n",
        "*ts - время, когда впервые был выдан tag. То есть, все события до наступления времени ts происходили с юзером до попадания в а/б тест\n",
        "*user_uid - внутренний id юзера (для матчинга со второй таблицей)\n",
        "*registration_time - время регистрации пользователя в сервисе\n",
        "*conv_ts - время совершения первой покупки пользователем в сервисе\n",
        "\n",
        "В таблице purchases_ приведена информация о транзакциях пользователей из таблицы users_ до и во время а/б теста:\n",
        "- user_uid - внутренний id юзера (для матчинга со второй таблицей)\n",
        "*time - время совершения транзакции\n",
        "*consumption_mode - вид потребления контента (dto - единица контента куплена навсегда, rent - единица контента взята в аренду, subscription - оформлена подписка)\n",
        "*element_uid - уникальный id единицы контента или подписки\n",
        "*price - цена (преобразованная)\n",
        "\n",
        "Значения в полях price и всех полях, указывающих на время - преобразованы. Это значит, что значение в таблице не настоящее, но является линейным преобразованием реального значения, где ко всем значениям одного поля применено одно и то же преобразование - между ними сохранено отношение порядка. Ко всем полям, обозначающим время, применено одно и то же преобразование.\n",
        "\n",
        "\n"
      ]
    },
    {
      "cell_type": "markdown",
      "source": [
        "# Знакомство с данными"
      ],
      "metadata": {
        "id": "O8UIe81EjX3M"
      }
    },
    {
      "cell_type": "markdown",
      "source": [
        "## users"
      ],
      "metadata": {
        "id": "J1v37LpdkEFK"
      }
    },
    {
      "cell_type": "code",
      "execution_count": null,
      "metadata": {
        "id": "vVRU9Gbr0yyE",
        "colab": {
          "base_uri": "https://localhost:8080/",
          "height": 206
        },
        "outputId": "bf5f3148-b2d9-4175-9396-0cfb45ef8c36"
      },
      "outputs": [
        {
          "output_type": "execute_result",
          "data": {
            "text/plain": [
              "       tag            ts                          user_uid  registration_time  \\\n",
              "0    test4  30152.843868  001885550d78efd82c0f5cc02ad3369a       27410.154590   \n",
              "1  control  30133.146255  deb7d0e9bf9813d4f21b579d3703c6e1       27410.171795   \n",
              "2    test1  30140.447675  32095e22f853e595a0f407ad081e7da8       27410.217536   \n",
              "3  control  30136.790772  9932d33f40ad07d7f3ddb7c6aee1bc60       27410.227367   \n",
              "4    test2  30150.339264  4a122db1ad0214e969df154d2dbb4622       27410.230786   \n",
              "\n",
              "        conv_ts  \n",
              "0  29485.529691  \n",
              "1  27632.424734  \n",
              "2  27414.028899  \n",
              "3  27573.751226  \n",
              "4  29545.833019  "
            ],
            "text/html": [
              "\n",
              "  <div id=\"df-2df79120-8253-4f7c-8cf3-3a436ad03740\">\n",
              "    <div class=\"colab-df-container\">\n",
              "      <div>\n",
              "<style scoped>\n",
              "    .dataframe tbody tr th:only-of-type {\n",
              "        vertical-align: middle;\n",
              "    }\n",
              "\n",
              "    .dataframe tbody tr th {\n",
              "        vertical-align: top;\n",
              "    }\n",
              "\n",
              "    .dataframe thead th {\n",
              "        text-align: right;\n",
              "    }\n",
              "</style>\n",
              "<table border=\"1\" class=\"dataframe\">\n",
              "  <thead>\n",
              "    <tr style=\"text-align: right;\">\n",
              "      <th></th>\n",
              "      <th>tag</th>\n",
              "      <th>ts</th>\n",
              "      <th>user_uid</th>\n",
              "      <th>registration_time</th>\n",
              "      <th>conv_ts</th>\n",
              "    </tr>\n",
              "  </thead>\n",
              "  <tbody>\n",
              "    <tr>\n",
              "      <th>0</th>\n",
              "      <td>test4</td>\n",
              "      <td>30152.843868</td>\n",
              "      <td>001885550d78efd82c0f5cc02ad3369a</td>\n",
              "      <td>27410.154590</td>\n",
              "      <td>29485.529691</td>\n",
              "    </tr>\n",
              "    <tr>\n",
              "      <th>1</th>\n",
              "      <td>control</td>\n",
              "      <td>30133.146255</td>\n",
              "      <td>deb7d0e9bf9813d4f21b579d3703c6e1</td>\n",
              "      <td>27410.171795</td>\n",
              "      <td>27632.424734</td>\n",
              "    </tr>\n",
              "    <tr>\n",
              "      <th>2</th>\n",
              "      <td>test1</td>\n",
              "      <td>30140.447675</td>\n",
              "      <td>32095e22f853e595a0f407ad081e7da8</td>\n",
              "      <td>27410.217536</td>\n",
              "      <td>27414.028899</td>\n",
              "    </tr>\n",
              "    <tr>\n",
              "      <th>3</th>\n",
              "      <td>control</td>\n",
              "      <td>30136.790772</td>\n",
              "      <td>9932d33f40ad07d7f3ddb7c6aee1bc60</td>\n",
              "      <td>27410.227367</td>\n",
              "      <td>27573.751226</td>\n",
              "    </tr>\n",
              "    <tr>\n",
              "      <th>4</th>\n",
              "      <td>test2</td>\n",
              "      <td>30150.339264</td>\n",
              "      <td>4a122db1ad0214e969df154d2dbb4622</td>\n",
              "      <td>27410.230786</td>\n",
              "      <td>29545.833019</td>\n",
              "    </tr>\n",
              "  </tbody>\n",
              "</table>\n",
              "</div>\n",
              "      <button class=\"colab-df-convert\" onclick=\"convertToInteractive('df-2df79120-8253-4f7c-8cf3-3a436ad03740')\"\n",
              "              title=\"Convert this dataframe to an interactive table.\"\n",
              "              style=\"display:none;\">\n",
              "        \n",
              "  <svg xmlns=\"http://www.w3.org/2000/svg\" height=\"24px\"viewBox=\"0 0 24 24\"\n",
              "       width=\"24px\">\n",
              "    <path d=\"M0 0h24v24H0V0z\" fill=\"none\"/>\n",
              "    <path d=\"M18.56 5.44l.94 2.06.94-2.06 2.06-.94-2.06-.94-.94-2.06-.94 2.06-2.06.94zm-11 1L8.5 8.5l.94-2.06 2.06-.94-2.06-.94L8.5 2.5l-.94 2.06-2.06.94zm10 10l.94 2.06.94-2.06 2.06-.94-2.06-.94-.94-2.06-.94 2.06-2.06.94z\"/><path d=\"M17.41 7.96l-1.37-1.37c-.4-.4-.92-.59-1.43-.59-.52 0-1.04.2-1.43.59L10.3 9.45l-7.72 7.72c-.78.78-.78 2.05 0 2.83L4 21.41c.39.39.9.59 1.41.59.51 0 1.02-.2 1.41-.59l7.78-7.78 2.81-2.81c.8-.78.8-2.07 0-2.86zM5.41 20L4 18.59l7.72-7.72 1.47 1.35L5.41 20z\"/>\n",
              "  </svg>\n",
              "      </button>\n",
              "      \n",
              "  <style>\n",
              "    .colab-df-container {\n",
              "      display:flex;\n",
              "      flex-wrap:wrap;\n",
              "      gap: 12px;\n",
              "    }\n",
              "\n",
              "    .colab-df-convert {\n",
              "      background-color: #E8F0FE;\n",
              "      border: none;\n",
              "      border-radius: 50%;\n",
              "      cursor: pointer;\n",
              "      display: none;\n",
              "      fill: #1967D2;\n",
              "      height: 32px;\n",
              "      padding: 0 0 0 0;\n",
              "      width: 32px;\n",
              "    }\n",
              "\n",
              "    .colab-df-convert:hover {\n",
              "      background-color: #E2EBFA;\n",
              "      box-shadow: 0px 1px 2px rgba(60, 64, 67, 0.3), 0px 1px 3px 1px rgba(60, 64, 67, 0.15);\n",
              "      fill: #174EA6;\n",
              "    }\n",
              "\n",
              "    [theme=dark] .colab-df-convert {\n",
              "      background-color: #3B4455;\n",
              "      fill: #D2E3FC;\n",
              "    }\n",
              "\n",
              "    [theme=dark] .colab-df-convert:hover {\n",
              "      background-color: #434B5C;\n",
              "      box-shadow: 0px 1px 3px 1px rgba(0, 0, 0, 0.15);\n",
              "      filter: drop-shadow(0px 1px 2px rgba(0, 0, 0, 0.3));\n",
              "      fill: #FFFFFF;\n",
              "    }\n",
              "  </style>\n",
              "\n",
              "      <script>\n",
              "        const buttonEl =\n",
              "          document.querySelector('#df-2df79120-8253-4f7c-8cf3-3a436ad03740 button.colab-df-convert');\n",
              "        buttonEl.style.display =\n",
              "          google.colab.kernel.accessAllowed ? 'block' : 'none';\n",
              "\n",
              "        async function convertToInteractive(key) {\n",
              "          const element = document.querySelector('#df-2df79120-8253-4f7c-8cf3-3a436ad03740');\n",
              "          const dataTable =\n",
              "            await google.colab.kernel.invokeFunction('convertToInteractive',\n",
              "                                                     [key], {});\n",
              "          if (!dataTable) return;\n",
              "\n",
              "          const docLinkHtml = 'Like what you see? Visit the ' +\n",
              "            '<a target=\"_blank\" href=https://colab.research.google.com/notebooks/data_table.ipynb>data table notebook</a>'\n",
              "            + ' to learn more about interactive tables.';\n",
              "          element.innerHTML = '';\n",
              "          dataTable['output_type'] = 'display_data';\n",
              "          await google.colab.output.renderOutput(dataTable, element);\n",
              "          const docLink = document.createElement('div');\n",
              "          docLink.innerHTML = docLinkHtml;\n",
              "          element.appendChild(docLink);\n",
              "        }\n",
              "      </script>\n",
              "    </div>\n",
              "  </div>\n",
              "  "
            ]
          },
          "metadata": {},
          "execution_count": 147
        }
      ],
      "source": [
        "users.head()"
      ]
    },
    {
      "cell_type": "code",
      "source": [
        "users.info()"
      ],
      "metadata": {
        "colab": {
          "base_uri": "https://localhost:8080/"
        },
        "id": "cAPCzhNXHxfd",
        "outputId": "d7f0f575-aa11-4595-98be-fe9c0f8fd77a"
      },
      "execution_count": null,
      "outputs": [
        {
          "output_type": "stream",
          "name": "stdout",
          "text": [
            "<class 'pandas.core.frame.DataFrame'>\n",
            "RangeIndex: 696982 entries, 0 to 696981\n",
            "Data columns (total 5 columns):\n",
            " #   Column             Non-Null Count   Dtype  \n",
            "---  ------             --------------   -----  \n",
            " 0   tag                696982 non-null  object \n",
            " 1   ts                 696982 non-null  float64\n",
            " 2   user_uid           696982 non-null  object \n",
            " 3   registration_time  696485 non-null  float64\n",
            " 4   conv_ts            696697 non-null  float64\n",
            "dtypes: float64(3), object(2)\n",
            "memory usage: 26.6+ MB\n"
          ]
        }
      ]
    },
    {
      "cell_type": "code",
      "source": [
        "users.isna().mean()"
      ],
      "metadata": {
        "colab": {
          "base_uri": "https://localhost:8080/"
        },
        "id": "A3JMuvOzHxic",
        "outputId": "41494404-a67a-4062-de2f-7cfaafff2b01"
      },
      "execution_count": null,
      "outputs": [
        {
          "output_type": "execute_result",
          "data": {
            "text/plain": [
              "tag                  0.000000\n",
              "ts                   0.000000\n",
              "user_uid             0.000000\n",
              "registration_time    0.000713\n",
              "conv_ts              0.000409\n",
              "dtype: float64"
            ]
          },
          "metadata": {},
          "execution_count": 149
        }
      ]
    },
    {
      "cell_type": "code",
      "source": [
        "users.duplicated().sum()"
      ],
      "metadata": {
        "colab": {
          "base_uri": "https://localhost:8080/"
        },
        "id": "DQ-A_5S0Vcv1",
        "outputId": "3c798987-69f4-443d-bdf8-7e71898bd045"
      },
      "execution_count": null,
      "outputs": [
        {
          "output_type": "execute_result",
          "data": {
            "text/plain": [
              "0"
            ]
          },
          "metadata": {},
          "execution_count": 150
        }
      ]
    },
    {
      "cell_type": "code",
      "source": [
        "users['tag'].value_counts() # 5 групп"
      ],
      "metadata": {
        "colab": {
          "base_uri": "https://localhost:8080/"
        },
        "id": "WaRfqzjHHxmw",
        "outputId": "afaee41d-bbd7-4579-f7cb-7da41a380b2d"
      },
      "execution_count": null,
      "outputs": [
        {
          "output_type": "execute_result",
          "data": {
            "text/plain": [
              "test1      140133\n",
              "test2      139389\n",
              "test4      139254\n",
              "test3      139226\n",
              "control    138980\n",
              "Name: tag, dtype: int64"
            ]
          },
          "metadata": {},
          "execution_count": 151
        }
      ]
    },
    {
      "cell_type": "code",
      "source": [
        "# есть дублирующиеся записи пользователей\n",
        "users['user_uid'].nunique()"
      ],
      "metadata": {
        "colab": {
          "base_uri": "https://localhost:8080/"
        },
        "id": "-qFYmMDbHxpM",
        "outputId": "b67e9b9b-14ea-4517-ae7a-e011a72a8956"
      },
      "execution_count": null,
      "outputs": [
        {
          "output_type": "execute_result",
          "data": {
            "text/plain": [
              "694819"
            ]
          },
          "metadata": {},
          "execution_count": 152
        }
      ]
    },
    {
      "cell_type": "code",
      "source": [
        "double_users = users.groupby('user_uid')[['tag']] \\\n",
        "                    .agg('count') \\\n",
        "                    .sort_values('tag', ascending=False) \\\n",
        "                    .query('tag > 1') \\\n",
        "                    .reset_index()['user_uid'] \\\n",
        "                    .to_list()"
      ],
      "metadata": {
        "id": "SWXrNJqYzU01"
      },
      "execution_count": null,
      "outputs": []
    },
    {
      "cell_type": "code",
      "source": [
        "users.groupby('user_uid')[['tag']] \\\n",
        "                    .agg('count') \\\n",
        "                    .sort_values('tag', ascending=False) \\\n",
        "                    .query('tag > 1') \\\n",
        "                    .reset_index()['tag'].value_counts()"
      ],
      "metadata": {
        "colab": {
          "base_uri": "https://localhost:8080/"
        },
        "id": "fKtWI3jvUJAo",
        "outputId": "4de729f1-fa61-468d-ffd1-c37b24de6b91"
      },
      "execution_count": null,
      "outputs": [
        {
          "output_type": "execute_result",
          "data": {
            "text/plain": [
              "2    2032\n",
              "3      61\n",
              "4       3\n",
              "Name: tag, dtype: int64"
            ]
          },
          "metadata": {},
          "execution_count": 154
        }
      ]
    },
    {
      "cell_type": "code",
      "source": [
        "len(double_users) # число юзеров, которые попали в несколько групп"
      ],
      "metadata": {
        "colab": {
          "base_uri": "https://localhost:8080/"
        },
        "id": "9TUBLBgRIYVh",
        "outputId": "615959ec-f00a-482e-9451-81a982b4844e"
      },
      "execution_count": null,
      "outputs": [
        {
          "output_type": "execute_result",
          "data": {
            "text/plain": [
              "2096"
            ]
          },
          "metadata": {},
          "execution_count": 155
        }
      ]
    },
    {
      "cell_type": "code",
      "source": [
        "# пример\n",
        "users.query('user_uid == \"6c2289ccfa50dd5b669b159fe12ca4ed\"').sort_values('ts')"
      ],
      "metadata": {
        "colab": {
          "base_uri": "https://localhost:8080/",
          "height": 175
        },
        "id": "t18m6Uq9IdWz",
        "outputId": "d3657a0a-a04a-4f8e-c1bf-e5fd03da5a36"
      },
      "execution_count": null,
      "outputs": [
        {
          "output_type": "execute_result",
          "data": {
            "text/plain": [
              "            tag            ts                          user_uid  \\\n",
              "93037     test3  30133.872325  6c2289ccfa50dd5b669b159fe12ca4ed   \n",
              "103896  control  30136.492787  6c2289ccfa50dd5b669b159fe12ca4ed   \n",
              "90820     test3  30136.593332  6c2289ccfa50dd5b669b159fe12ca4ed   \n",
              "97224     test4  30140.554481  6c2289ccfa50dd5b669b159fe12ca4ed   \n",
              "\n",
              "        registration_time       conv_ts  \n",
              "93037        28692.364445  28906.943711  \n",
              "103896       28692.364445  28906.943711  \n",
              "90820        28692.364445  28906.943711  \n",
              "97224        28692.364445  28906.943711  "
            ],
            "text/html": [
              "\n",
              "  <div id=\"df-ba56b2f1-4846-4798-a51d-52aea08fe491\">\n",
              "    <div class=\"colab-df-container\">\n",
              "      <div>\n",
              "<style scoped>\n",
              "    .dataframe tbody tr th:only-of-type {\n",
              "        vertical-align: middle;\n",
              "    }\n",
              "\n",
              "    .dataframe tbody tr th {\n",
              "        vertical-align: top;\n",
              "    }\n",
              "\n",
              "    .dataframe thead th {\n",
              "        text-align: right;\n",
              "    }\n",
              "</style>\n",
              "<table border=\"1\" class=\"dataframe\">\n",
              "  <thead>\n",
              "    <tr style=\"text-align: right;\">\n",
              "      <th></th>\n",
              "      <th>tag</th>\n",
              "      <th>ts</th>\n",
              "      <th>user_uid</th>\n",
              "      <th>registration_time</th>\n",
              "      <th>conv_ts</th>\n",
              "    </tr>\n",
              "  </thead>\n",
              "  <tbody>\n",
              "    <tr>\n",
              "      <th>93037</th>\n",
              "      <td>test3</td>\n",
              "      <td>30133.872325</td>\n",
              "      <td>6c2289ccfa50dd5b669b159fe12ca4ed</td>\n",
              "      <td>28692.364445</td>\n",
              "      <td>28906.943711</td>\n",
              "    </tr>\n",
              "    <tr>\n",
              "      <th>103896</th>\n",
              "      <td>control</td>\n",
              "      <td>30136.492787</td>\n",
              "      <td>6c2289ccfa50dd5b669b159fe12ca4ed</td>\n",
              "      <td>28692.364445</td>\n",
              "      <td>28906.943711</td>\n",
              "    </tr>\n",
              "    <tr>\n",
              "      <th>90820</th>\n",
              "      <td>test3</td>\n",
              "      <td>30136.593332</td>\n",
              "      <td>6c2289ccfa50dd5b669b159fe12ca4ed</td>\n",
              "      <td>28692.364445</td>\n",
              "      <td>28906.943711</td>\n",
              "    </tr>\n",
              "    <tr>\n",
              "      <th>97224</th>\n",
              "      <td>test4</td>\n",
              "      <td>30140.554481</td>\n",
              "      <td>6c2289ccfa50dd5b669b159fe12ca4ed</td>\n",
              "      <td>28692.364445</td>\n",
              "      <td>28906.943711</td>\n",
              "    </tr>\n",
              "  </tbody>\n",
              "</table>\n",
              "</div>\n",
              "      <button class=\"colab-df-convert\" onclick=\"convertToInteractive('df-ba56b2f1-4846-4798-a51d-52aea08fe491')\"\n",
              "              title=\"Convert this dataframe to an interactive table.\"\n",
              "              style=\"display:none;\">\n",
              "        \n",
              "  <svg xmlns=\"http://www.w3.org/2000/svg\" height=\"24px\"viewBox=\"0 0 24 24\"\n",
              "       width=\"24px\">\n",
              "    <path d=\"M0 0h24v24H0V0z\" fill=\"none\"/>\n",
              "    <path d=\"M18.56 5.44l.94 2.06.94-2.06 2.06-.94-2.06-.94-.94-2.06-.94 2.06-2.06.94zm-11 1L8.5 8.5l.94-2.06 2.06-.94-2.06-.94L8.5 2.5l-.94 2.06-2.06.94zm10 10l.94 2.06.94-2.06 2.06-.94-2.06-.94-.94-2.06-.94 2.06-2.06.94z\"/><path d=\"M17.41 7.96l-1.37-1.37c-.4-.4-.92-.59-1.43-.59-.52 0-1.04.2-1.43.59L10.3 9.45l-7.72 7.72c-.78.78-.78 2.05 0 2.83L4 21.41c.39.39.9.59 1.41.59.51 0 1.02-.2 1.41-.59l7.78-7.78 2.81-2.81c.8-.78.8-2.07 0-2.86zM5.41 20L4 18.59l7.72-7.72 1.47 1.35L5.41 20z\"/>\n",
              "  </svg>\n",
              "      </button>\n",
              "      \n",
              "  <style>\n",
              "    .colab-df-container {\n",
              "      display:flex;\n",
              "      flex-wrap:wrap;\n",
              "      gap: 12px;\n",
              "    }\n",
              "\n",
              "    .colab-df-convert {\n",
              "      background-color: #E8F0FE;\n",
              "      border: none;\n",
              "      border-radius: 50%;\n",
              "      cursor: pointer;\n",
              "      display: none;\n",
              "      fill: #1967D2;\n",
              "      height: 32px;\n",
              "      padding: 0 0 0 0;\n",
              "      width: 32px;\n",
              "    }\n",
              "\n",
              "    .colab-df-convert:hover {\n",
              "      background-color: #E2EBFA;\n",
              "      box-shadow: 0px 1px 2px rgba(60, 64, 67, 0.3), 0px 1px 3px 1px rgba(60, 64, 67, 0.15);\n",
              "      fill: #174EA6;\n",
              "    }\n",
              "\n",
              "    [theme=dark] .colab-df-convert {\n",
              "      background-color: #3B4455;\n",
              "      fill: #D2E3FC;\n",
              "    }\n",
              "\n",
              "    [theme=dark] .colab-df-convert:hover {\n",
              "      background-color: #434B5C;\n",
              "      box-shadow: 0px 1px 3px 1px rgba(0, 0, 0, 0.15);\n",
              "      filter: drop-shadow(0px 1px 2px rgba(0, 0, 0, 0.3));\n",
              "      fill: #FFFFFF;\n",
              "    }\n",
              "  </style>\n",
              "\n",
              "      <script>\n",
              "        const buttonEl =\n",
              "          document.querySelector('#df-ba56b2f1-4846-4798-a51d-52aea08fe491 button.colab-df-convert');\n",
              "        buttonEl.style.display =\n",
              "          google.colab.kernel.accessAllowed ? 'block' : 'none';\n",
              "\n",
              "        async function convertToInteractive(key) {\n",
              "          const element = document.querySelector('#df-ba56b2f1-4846-4798-a51d-52aea08fe491');\n",
              "          const dataTable =\n",
              "            await google.colab.kernel.invokeFunction('convertToInteractive',\n",
              "                                                     [key], {});\n",
              "          if (!dataTable) return;\n",
              "\n",
              "          const docLinkHtml = 'Like what you see? Visit the ' +\n",
              "            '<a target=\"_blank\" href=https://colab.research.google.com/notebooks/data_table.ipynb>data table notebook</a>'\n",
              "            + ' to learn more about interactive tables.';\n",
              "          element.innerHTML = '';\n",
              "          dataTable['output_type'] = 'display_data';\n",
              "          await google.colab.output.renderOutput(dataTable, element);\n",
              "          const docLink = document.createElement('div');\n",
              "          docLink.innerHTML = docLinkHtml;\n",
              "          element.appendChild(docLink);\n",
              "        }\n",
              "      </script>\n",
              "    </div>\n",
              "  </div>\n",
              "  "
            ]
          },
          "metadata": {},
          "execution_count": 156
        }
      ]
    },
    {
      "cell_type": "markdown",
      "source": [
        "## Выводы по дубликатам юзеров\n",
        "- А/Б тест проходит с пересечением, при чем пересечений у некоторых доходит до 4. Бывают такие дизайны экспериментов, когда возможны пересечения между группами (например для повышения мощности теста или если изменение не являются взаимоисключающими), однако в данном случае я не думаю, что 2к юзеров существенно влияют на выборку из почти 700к пользоваталей.\n",
        "- по хорошему нужно чинить систему сплитования и провести А/Б/n тест еще раз, потому что эксперименты со сломанной системой сплитования бессмысленны\n",
        "\n",
        "Я же пойду по другому: удалю этих пользоваталей вообще и буду считать, что система сплитования работает отлично. В реальной жизни я бы так не стал делать."
      ],
      "metadata": {
        "id": "84APpHHOI8jg"
      }
    },
    {
      "cell_type": "code",
      "source": [
        "# ради интереса посмотрим распределение конверсионного окна в первую покупку\n",
        "users['conv_w'] = users['conv_ts'] - users['registration_time']"
      ],
      "metadata": {
        "id": "_RK_QchhJMbz"
      },
      "execution_count": null,
      "outputs": []
    },
    {
      "cell_type": "code",
      "source": [
        "users['conv_w'].hist()"
      ],
      "metadata": {
        "colab": {
          "base_uri": "https://localhost:8080/",
          "height": 386
        },
        "id": "GE8xDEG0Nqgb",
        "outputId": "b7a3bb26-a226-4c28-e48a-e8817e4f0f3f"
      },
      "execution_count": null,
      "outputs": [
        {
          "output_type": "execute_result",
          "data": {
            "text/plain": [
              "<Axes: >"
            ]
          },
          "metadata": {},
          "execution_count": 158
        },
        {
          "output_type": "display_data",
          "data": {
            "text/plain": [
              "<Figure size 800x400 with 1 Axes>"
            ],
            "image/png": "[encoded data removed]"
          },
          "metadata": {}
        }
      ]
    },
    {
      "cell_type": "markdown",
      "source": [
        "Были пользователи, которые сделали покупку до регистрации. Рассмотрим сколько их, посмотрим на распределение"
      ],
      "metadata": {
        "id": "t_GtQP4SO3qQ"
      }
    },
    {
      "cell_type": "code",
      "source": [
        "len(users.query('conv_w < 0')['conv_w']) # более 100к покупок"
      ],
      "metadata": {
        "colab": {
          "base_uri": "https://localhost:8080/"
        },
        "id": "r9aM3zOCPGmN",
        "outputId": "342750cb-3f5d-484c-ad43-0e19607edef5"
      },
      "execution_count": null,
      "outputs": [
        {
          "output_type": "execute_result",
          "data": {
            "text/plain": [
              "106553"
            ]
          },
          "metadata": {},
          "execution_count": 159
        }
      ]
    },
    {
      "cell_type": "code",
      "source": [
        "sns.boxplot(x = users.query('conv_w < 0')['conv_w'])"
      ],
      "metadata": {
        "colab": {
          "base_uri": "https://localhost:8080/",
          "height": 405
        },
        "id": "vCvFkZBhODV4",
        "outputId": "9ac2a578-4883-4c70-e9cc-fce1c33dc7a5"
      },
      "execution_count": null,
      "outputs": [
        {
          "output_type": "execute_result",
          "data": {
            "text/plain": [
              "<Axes: xlabel='conv_w'>"
            ]
          },
          "metadata": {},
          "execution_count": 160
        },
        {
          "output_type": "display_data",
          "data": {
            "text/plain": [
              "<Figure size 800x400 with 1 Axes>"
            ],
            "image/png": "[encoded data removed]"
          },
          "metadata": {}
        }
      ]
    },
    {
      "cell_type": "code",
      "source": [
        "sns.boxplot(x = users.query('conv_w < -10')['conv_w'])"
      ],
      "metadata": {
        "colab": {
          "base_uri": "https://localhost:8080/",
          "height": 405
        },
        "id": "YN1kRc57PVsc",
        "outputId": "d8bd02ff-07c7-4d9f-edd2-003f088836da"
      },
      "execution_count": null,
      "outputs": [
        {
          "output_type": "execute_result",
          "data": {
            "text/plain": [
              "<Axes: xlabel='conv_w'>"
            ]
          },
          "metadata": {},
          "execution_count": 161
        },
        {
          "output_type": "display_data",
          "data": {
            "text/plain": [
              "<Figure size 800x400 with 1 Axes>"
            ],
            "image/png": "[encoded data removed]"
          },
          "metadata": {}
        }
      ]
    },
    {
      "cell_type": "markdown",
      "source": [
        "Большая часть регистрировалась почти сразу после покупки (точно сказать нельзя, потому что неизвестно преобразование). Допустим, это формат экселя, тогда:"
      ],
      "metadata": {
        "id": "rWJAkKGRPlVD"
      }
    },
    {
      "cell_type": "code",
      "source": [
        "min_w = users['conv_w'].min()\n",
        "users.query('conv_w == @min_w')"
      ],
      "metadata": {
        "colab": {
          "base_uri": "https://localhost:8080/",
          "height": 81
        },
        "id": "Y6mzKkQ9Tp6n",
        "outputId": "9b00bd06-486a-49e3-c001-f8c3cd35f221"
      },
      "execution_count": null,
      "outputs": [
        {
          "output_type": "execute_result",
          "data": {
            "text/plain": [
              "            tag            ts                          user_uid  \\\n",
              "384462  control  30132.337289  382dd4f14e9c71bedf96129d1092521e   \n",
              "\n",
              "        registration_time       conv_ts       conv_w  \n",
              "384462       30236.162948  25896.598883 -4339.564065  "
            ],
            "text/html": [
              "\n",
              "  <div id=\"df-4dfb8f9e-1da7-4b0e-8e7b-5ddfa5b79542\">\n",
              "    <div class=\"colab-df-container\">\n",
              "      <div>\n",
              "<style scoped>\n",
              "    .dataframe tbody tr th:only-of-type {\n",
              "        vertical-align: middle;\n",
              "    }\n",
              "\n",
              "    .dataframe tbody tr th {\n",
              "        vertical-align: top;\n",
              "    }\n",
              "\n",
              "    .dataframe thead th {\n",
              "        text-align: right;\n",
              "    }\n",
              "</style>\n",
              "<table border=\"1\" class=\"dataframe\">\n",
              "  <thead>\n",
              "    <tr style=\"text-align: right;\">\n",
              "      <th></th>\n",
              "      <th>tag</th>\n",
              "      <th>ts</th>\n",
              "      <th>user_uid</th>\n",
              "      <th>registration_time</th>\n",
              "      <th>conv_ts</th>\n",
              "      <th>conv_w</th>\n",
              "    </tr>\n",
              "  </thead>\n",
              "  <tbody>\n",
              "    <tr>\n",
              "      <th>384462</th>\n",
              "      <td>control</td>\n",
              "      <td>30132.337289</td>\n",
              "      <td>382dd4f14e9c71bedf96129d1092521e</td>\n",
              "      <td>30236.162948</td>\n",
              "      <td>25896.598883</td>\n",
              "      <td>-4339.564065</td>\n",
              "    </tr>\n",
              "  </tbody>\n",
              "</table>\n",
              "</div>\n",
              "      <button class=\"colab-df-convert\" onclick=\"convertToInteractive('df-4dfb8f9e-1da7-4b0e-8e7b-5ddfa5b79542')\"\n",
              "              title=\"Convert this dataframe to an interactive table.\"\n",
              "              style=\"display:none;\">\n",
              "        \n",
              "  <svg xmlns=\"http://www.w3.org/2000/svg\" height=\"24px\"viewBox=\"0 0 24 24\"\n",
              "       width=\"24px\">\n",
              "    <path d=\"M0 0h24v24H0V0z\" fill=\"none\"/>\n",
              "    <path d=\"M18.56 5.44l.94 2.06.94-2.06 2.06-.94-2.06-.94-.94-2.06-.94 2.06-2.06.94zm-11 1L8.5 8.5l.94-2.06 2.06-.94-2.06-.94L8.5 2.5l-.94 2.06-2.06.94zm10 10l.94 2.06.94-2.06 2.06-.94-2.06-.94-.94-2.06-.94 2.06-2.06.94z\"/><path d=\"M17.41 7.96l-1.37-1.37c-.4-.4-.92-.59-1.43-.59-.52 0-1.04.2-1.43.59L10.3 9.45l-7.72 7.72c-.78.78-.78 2.05 0 2.83L4 21.41c.39.39.9.59 1.41.59.51 0 1.02-.2 1.41-.59l7.78-7.78 2.81-2.81c.8-.78.8-2.07 0-2.86zM5.41 20L4 18.59l7.72-7.72 1.47 1.35L5.41 20z\"/>\n",
              "  </svg>\n",
              "      </button>\n",
              "      \n",
              "  <style>\n",
              "    .colab-df-container {\n",
              "      display:flex;\n",
              "      flex-wrap:wrap;\n",
              "      gap: 12px;\n",
              "    }\n",
              "\n",
              "    .colab-df-convert {\n",
              "      background-color: #E8F0FE;\n",
              "      border: none;\n",
              "      border-radius: 50%;\n",
              "      cursor: pointer;\n",
              "      display: none;\n",
              "      fill: #1967D2;\n",
              "      height: 32px;\n",
              "      padding: 0 0 0 0;\n",
              "      width: 32px;\n",
              "    }\n",
              "\n",
              "    .colab-df-convert:hover {\n",
              "      background-color: #E2EBFA;\n",
              "      box-shadow: 0px 1px 2px rgba(60, 64, 67, 0.3), 0px 1px 3px 1px rgba(60, 64, 67, 0.15);\n",
              "      fill: #174EA6;\n",
              "    }\n",
              "\n",
              "    [theme=dark] .colab-df-convert {\n",
              "      background-color: #3B4455;\n",
              "      fill: #D2E3FC;\n",
              "    }\n",
              "\n",
              "    [theme=dark] .colab-df-convert:hover {\n",
              "      background-color: #434B5C;\n",
              "      box-shadow: 0px 1px 3px 1px rgba(0, 0, 0, 0.15);\n",
              "      filter: drop-shadow(0px 1px 2px rgba(0, 0, 0, 0.3));\n",
              "      fill: #FFFFFF;\n",
              "    }\n",
              "  </style>\n",
              "\n",
              "      <script>\n",
              "        const buttonEl =\n",
              "          document.querySelector('#df-4dfb8f9e-1da7-4b0e-8e7b-5ddfa5b79542 button.colab-df-convert');\n",
              "        buttonEl.style.display =\n",
              "          google.colab.kernel.accessAllowed ? 'block' : 'none';\n",
              "\n",
              "        async function convertToInteractive(key) {\n",
              "          const element = document.querySelector('#df-4dfb8f9e-1da7-4b0e-8e7b-5ddfa5b79542');\n",
              "          const dataTable =\n",
              "            await google.colab.kernel.invokeFunction('convertToInteractive',\n",
              "                                                     [key], {});\n",
              "          if (!dataTable) return;\n",
              "\n",
              "          const docLinkHtml = 'Like what you see? Visit the ' +\n",
              "            '<a target=\"_blank\" href=https://colab.research.google.com/notebooks/data_table.ipynb>data table notebook</a>'\n",
              "            + ' to learn more about interactive tables.';\n",
              "          element.innerHTML = '';\n",
              "          dataTable['output_type'] = 'display_data';\n",
              "          await google.colab.output.renderOutput(dataTable, element);\n",
              "          const docLink = document.createElement('div');\n",
              "          docLink.innerHTML = docLinkHtml;\n",
              "          element.appendChild(docLink);\n",
              "        }\n",
              "      </script>\n",
              "    </div>\n",
              "  </div>\n",
              "  "
            ]
          },
          "metadata": {},
          "execution_count": 162
        }
      ]
    },
    {
      "cell_type": "code",
      "source": [
        "datetime.fromtimestamp(30236.162948).strftime('%Y-%m-%d %H:%m:%s')"
      ],
      "metadata": {
        "colab": {
          "base_uri": "https://localhost:8080/",
          "height": 36
        },
        "id": "xWP5XSF7Qk88",
        "outputId": "31cecd0e-166d-455a-ea8d-2bcec3e6ef84"
      },
      "execution_count": null,
      "outputs": [
        {
          "output_type": "execute_result",
          "data": {
            "text/plain": [
              "'1970-01-01 08:01:30236'"
            ],
            "application/vnd.google.colaboratory.intrinsic+json": {
              "type": "string"
            }
          },
          "metadata": {},
          "execution_count": 163
        }
      ]
    },
    {
      "cell_type": "code",
      "source": [
        "datetime.fromtimestamp(25896.598883).strftime('%Y-%m-%d %H:%m:%s')"
      ],
      "metadata": {
        "colab": {
          "base_uri": "https://localhost:8080/",
          "height": 36
        },
        "id": "_ynRetChQ2hM",
        "outputId": "e05cdab8-1275-4410-eb06-245f4797751c"
      },
      "execution_count": null,
      "outputs": [
        {
          "output_type": "execute_result",
          "data": {
            "text/plain": [
              "'1970-01-01 07:01:25896'"
            ],
            "application/vnd.google.colaboratory.intrinsic+json": {
              "type": "string"
            }
          },
          "metadata": {},
          "execution_count": 164
        }
      ]
    },
    {
      "cell_type": "code",
      "source": [
        "max_w = users['conv_w'].max()\n",
        "users.query('conv_w == @max_w')"
      ],
      "metadata": {
        "colab": {
          "base_uri": "https://localhost:8080/",
          "height": 81
        },
        "id": "DK0kL2sJUoRU",
        "outputId": "9bd64685-946c-4ddf-c694-bfd28598cfbb"
      },
      "execution_count": null,
      "outputs": [
        {
          "output_type": "execute_result",
          "data": {
            "text/plain": [
              "          tag            ts                          user_uid  \\\n",
              "623227  test4  30135.654241  35784b505846a4222351f6ac5fa58780   \n",
              "\n",
              "        registration_time       conv_ts       conv_w  \n",
              "623227       25078.430701  30129.308458  5050.877758  "
            ],
            "text/html": [
              "\n",
              "  <div id=\"df-21fcc561-ea16-470b-8f5e-4a0e2b218a47\">\n",
              "    <div class=\"colab-df-container\">\n",
              "      <div>\n",
              "<style scoped>\n",
              "    .dataframe tbody tr th:only-of-type {\n",
              "        vertical-align: middle;\n",
              "    }\n",
              "\n",
              "    .dataframe tbody tr th {\n",
              "        vertical-align: top;\n",
              "    }\n",
              "\n",
              "    .dataframe thead th {\n",
              "        text-align: right;\n",
              "    }\n",
              "</style>\n",
              "<table border=\"1\" class=\"dataframe\">\n",
              "  <thead>\n",
              "    <tr style=\"text-align: right;\">\n",
              "      <th></th>\n",
              "      <th>tag</th>\n",
              "      <th>ts</th>\n",
              "      <th>user_uid</th>\n",
              "      <th>registration_time</th>\n",
              "      <th>conv_ts</th>\n",
              "      <th>conv_w</th>\n",
              "    </tr>\n",
              "  </thead>\n",
              "  <tbody>\n",
              "    <tr>\n",
              "      <th>623227</th>\n",
              "      <td>test4</td>\n",
              "      <td>30135.654241</td>\n",
              "      <td>35784b505846a4222351f6ac5fa58780</td>\n",
              "      <td>25078.430701</td>\n",
              "      <td>30129.308458</td>\n",
              "      <td>5050.877758</td>\n",
              "    </tr>\n",
              "  </tbody>\n",
              "</table>\n",
              "</div>\n",
              "      <button class=\"colab-df-convert\" onclick=\"convertToInteractive('df-21fcc561-ea16-470b-8f5e-4a0e2b218a47')\"\n",
              "              title=\"Convert this dataframe to an interactive table.\"\n",
              "              style=\"display:none;\">\n",
              "        \n",
              "  <svg xmlns=\"http://www.w3.org/2000/svg\" height=\"24px\"viewBox=\"0 0 24 24\"\n",
              "       width=\"24px\">\n",
              "    <path d=\"M0 0h24v24H0V0z\" fill=\"none\"/>\n",
              "    <path d=\"M18.56 5.44l.94 2.06.94-2.06 2.06-.94-2.06-.94-.94-2.06-.94 2.06-2.06.94zm-11 1L8.5 8.5l.94-2.06 2.06-.94-2.06-.94L8.5 2.5l-.94 2.06-2.06.94zm10 10l.94 2.06.94-2.06 2.06-.94-2.06-.94-.94-2.06-.94 2.06-2.06.94z\"/><path d=\"M17.41 7.96l-1.37-1.37c-.4-.4-.92-.59-1.43-.59-.52 0-1.04.2-1.43.59L10.3 9.45l-7.72 7.72c-.78.78-.78 2.05 0 2.83L4 21.41c.39.39.9.59 1.41.59.51 0 1.02-.2 1.41-.59l7.78-7.78 2.81-2.81c.8-.78.8-2.07 0-2.86zM5.41 20L4 18.59l7.72-7.72 1.47 1.35L5.41 20z\"/>\n",
              "  </svg>\n",
              "      </button>\n",
              "      \n",
              "  <style>\n",
              "    .colab-df-container {\n",
              "      display:flex;\n",
              "      flex-wrap:wrap;\n",
              "      gap: 12px;\n",
              "    }\n",
              "\n",
              "    .colab-df-convert {\n",
              "      background-color: #E8F0FE;\n",
              "      border: none;\n",
              "      border-radius: 50%;\n",
              "      cursor: pointer;\n",
              "      display: none;\n",
              "      fill: #1967D2;\n",
              "      height: 32px;\n",
              "      padding: 0 0 0 0;\n",
              "      width: 32px;\n",
              "    }\n",
              "\n",
              "    .colab-df-convert:hover {\n",
              "      background-color: #E2EBFA;\n",
              "      box-shadow: 0px 1px 2px rgba(60, 64, 67, 0.3), 0px 1px 3px 1px rgba(60, 64, 67, 0.15);\n",
              "      fill: #174EA6;\n",
              "    }\n",
              "\n",
              "    [theme=dark] .colab-df-convert {\n",
              "      background-color: #3B4455;\n",
              "      fill: #D2E3FC;\n",
              "    }\n",
              "\n",
              "    [theme=dark] .colab-df-convert:hover {\n",
              "      background-color: #434B5C;\n",
              "      box-shadow: 0px 1px 3px 1px rgba(0, 0, 0, 0.15);\n",
              "      filter: drop-shadow(0px 1px 2px rgba(0, 0, 0, 0.3));\n",
              "      fill: #FFFFFF;\n",
              "    }\n",
              "  </style>\n",
              "\n",
              "      <script>\n",
              "        const buttonEl =\n",
              "          document.querySelector('#df-21fcc561-ea16-470b-8f5e-4a0e2b218a47 button.colab-df-convert');\n",
              "        buttonEl.style.display =\n",
              "          google.colab.kernel.accessAllowed ? 'block' : 'none';\n",
              "\n",
              "        async function convertToInteractive(key) {\n",
              "          const element = document.querySelector('#df-21fcc561-ea16-470b-8f5e-4a0e2b218a47');\n",
              "          const dataTable =\n",
              "            await google.colab.kernel.invokeFunction('convertToInteractive',\n",
              "                                                     [key], {});\n",
              "          if (!dataTable) return;\n",
              "\n",
              "          const docLinkHtml = 'Like what you see? Visit the ' +\n",
              "            '<a target=\"_blank\" href=https://colab.research.google.com/notebooks/data_table.ipynb>data table notebook</a>'\n",
              "            + ' to learn more about interactive tables.';\n",
              "          element.innerHTML = '';\n",
              "          dataTable['output_type'] = 'display_data';\n",
              "          await google.colab.output.renderOutput(dataTable, element);\n",
              "          const docLink = document.createElement('div');\n",
              "          docLink.innerHTML = docLinkHtml;\n",
              "          element.appendChild(docLink);\n",
              "        }\n",
              "      </script>\n",
              "    </div>\n",
              "  </div>\n",
              "  "
            ]
          },
          "metadata": {},
          "execution_count": 165
        }
      ]
    },
    {
      "cell_type": "code",
      "source": [
        "print(datetime.fromtimestamp(25078.430701).strftime('%Y-%m-%d %H:%m:%s'))\n",
        "print(datetime.fromtimestamp(30129.308458).strftime('%Y-%m-%d %H:%m:%s'))"
      ],
      "metadata": {
        "colab": {
          "base_uri": "https://localhost:8080/"
        },
        "id": "LNsPGm5NUtHX",
        "outputId": "b22c590b-a88b-4bf0-c038-e43ea560a480"
      },
      "execution_count": null,
      "outputs": [
        {
          "output_type": "stream",
          "name": "stdout",
          "text": [
            "1970-01-01 06:01:25078\n",
            "1970-01-01 08:01:30129\n"
          ]
        }
      ]
    },
    {
      "cell_type": "markdown",
      "source": [
        "Скорее всего было выполнено другое преобразование, однако, если это, то максимальная разница между регистрацией и покупкой 2 часа.\n",
        "\n",
        "Далее рассмотрим покупки.\n",
        "## purchases"
      ],
      "metadata": {
        "id": "U9SQcgi_U_G6"
      }
    },
    {
      "cell_type": "code",
      "source": [
        "purchases.head()"
      ],
      "metadata": {
        "colab": {
          "base_uri": "https://localhost:8080/",
          "height": 206
        },
        "id": "2p9FrpwfdZTd",
        "outputId": "968c7b9b-1d8c-4c0a-d8b6-c41c4e9cd359"
      },
      "execution_count": null,
      "outputs": [
        {
          "output_type": "execute_result",
          "data": {
            "text/plain": [
              "                           user_uid          time consumption_mode  \\\n",
              "0  d60a7038c7b7e99146ffea6f6535862b  30158.645112              dto   \n",
              "1  0906074e1a1a9229b5e749860b646962  30158.645015              dto   \n",
              "2  efb6eeca3135d573739e5c5d4dbce330  30158.644990              dto   \n",
              "3  ccd658e372645c991ce49b444839712f  30158.644789              dto   \n",
              "4  89ae5e43ff7b89f9d262d507dedc1760  30158.644200              dto   \n",
              "\n",
              "                        element_uid      price  \n",
              "0  2ba66ac9785731da67b2b6155efaca5c  44.470588  \n",
              "1  e56d422275d90c96762f81db85d80f3d  38.588235  \n",
              "2  544f7dd31bd61558c9c738adcff6aafa  50.352941  \n",
              "3  8256d0fc7b25382aacfec0066e39cde3  44.470588  \n",
              "4  a579f32b5c116624cc661c9d3b96d5e5  44.470588  "
            ],
            "text/html": [
              "\n",
              "  <div id=\"df-43e35e69-4ffa-4bcd-98df-e02993240262\">\n",
              "    <div class=\"colab-df-container\">\n",
              "      <div>\n",
              "<style scoped>\n",
              "    .dataframe tbody tr th:only-of-type {\n",
              "        vertical-align: middle;\n",
              "    }\n",
              "\n",
              "    .dataframe tbody tr th {\n",
              "        vertical-align: top;\n",
              "    }\n",
              "\n",
              "    .dataframe thead th {\n",
              "        text-align: right;\n",
              "    }\n",
              "</style>\n",
              "<table border=\"1\" class=\"dataframe\">\n",
              "  <thead>\n",
              "    <tr style=\"text-align: right;\">\n",
              "      <th></th>\n",
              "      <th>user_uid</th>\n",
              "      <th>time</th>\n",
              "      <th>consumption_mode</th>\n",
              "      <th>element_uid</th>\n",
              "      <th>price</th>\n",
              "    </tr>\n",
              "  </thead>\n",
              "  <tbody>\n",
              "    <tr>\n",
              "      <th>0</th>\n",
              "      <td>d60a7038c7b7e99146ffea6f6535862b</td>\n",
              "      <td>30158.645112</td>\n",
              "      <td>dto</td>\n",
              "      <td>2ba66ac9785731da67b2b6155efaca5c</td>\n",
              "      <td>44.470588</td>\n",
              "    </tr>\n",
              "    <tr>\n",
              "      <th>1</th>\n",
              "      <td>0906074e1a1a9229b5e749860b646962</td>\n",
              "      <td>30158.645015</td>\n",
              "      <td>dto</td>\n",
              "      <td>e56d422275d90c96762f81db85d80f3d</td>\n",
              "      <td>38.588235</td>\n",
              "    </tr>\n",
              "    <tr>\n",
              "      <th>2</th>\n",
              "      <td>efb6eeca3135d573739e5c5d4dbce330</td>\n",
              "      <td>30158.644990</td>\n",
              "      <td>dto</td>\n",
              "      <td>544f7dd31bd61558c9c738adcff6aafa</td>\n",
              "      <td>50.352941</td>\n",
              "    </tr>\n",
              "    <tr>\n",
              "      <th>3</th>\n",
              "      <td>ccd658e372645c991ce49b444839712f</td>\n",
              "      <td>30158.644789</td>\n",
              "      <td>dto</td>\n",
              "      <td>8256d0fc7b25382aacfec0066e39cde3</td>\n",
              "      <td>44.470588</td>\n",
              "    </tr>\n",
              "    <tr>\n",
              "      <th>4</th>\n",
              "      <td>89ae5e43ff7b89f9d262d507dedc1760</td>\n",
              "      <td>30158.644200</td>\n",
              "      <td>dto</td>\n",
              "      <td>a579f32b5c116624cc661c9d3b96d5e5</td>\n",
              "      <td>44.470588</td>\n",
              "    </tr>\n",
              "  </tbody>\n",
              "</table>\n",
              "</div>\n",
              "      <button class=\"colab-df-convert\" onclick=\"convertToInteractive('df-43e35e69-4ffa-4bcd-98df-e02993240262')\"\n",
              "              title=\"Convert this dataframe to an interactive table.\"\n",
              "              style=\"display:none;\">\n",
              "        \n",
              "  <svg xmlns=\"http://www.w3.org/2000/svg\" height=\"24px\"viewBox=\"0 0 24 24\"\n",
              "       width=\"24px\">\n",
              "    <path d=\"M0 0h24v24H0V0z\" fill=\"none\"/>\n",
              "    <path d=\"M18.56 5.44l.94 2.06.94-2.06 2.06-.94-2.06-.94-.94-2.06-.94 2.06-2.06.94zm-11 1L8.5 8.5l.94-2.06 2.06-.94-2.06-.94L8.5 2.5l-.94 2.06-2.06.94zm10 10l.94 2.06.94-2.06 2.06-.94-2.06-.94-.94-2.06-.94 2.06-2.06.94z\"/><path d=\"M17.41 7.96l-1.37-1.37c-.4-.4-.92-.59-1.43-.59-.52 0-1.04.2-1.43.59L10.3 9.45l-7.72 7.72c-.78.78-.78 2.05 0 2.83L4 21.41c.39.39.9.59 1.41.59.51 0 1.02-.2 1.41-.59l7.78-7.78 2.81-2.81c.8-.78.8-2.07 0-2.86zM5.41 20L4 18.59l7.72-7.72 1.47 1.35L5.41 20z\"/>\n",
              "  </svg>\n",
              "      </button>\n",
              "      \n",
              "  <style>\n",
              "    .colab-df-container {\n",
              "      display:flex;\n",
              "      flex-wrap:wrap;\n",
              "      gap: 12px;\n",
              "    }\n",
              "\n",
              "    .colab-df-convert {\n",
              "      background-color: #E8F0FE;\n",
              "      border: none;\n",
              "      border-radius: 50%;\n",
              "      cursor: pointer;\n",
              "      display: none;\n",
              "      fill: #1967D2;\n",
              "      height: 32px;\n",
              "      padding: 0 0 0 0;\n",
              "      width: 32px;\n",
              "    }\n",
              "\n",
              "    .colab-df-convert:hover {\n",
              "      background-color: #E2EBFA;\n",
              "      box-shadow: 0px 1px 2px rgba(60, 64, 67, 0.3), 0px 1px 3px 1px rgba(60, 64, 67, 0.15);\n",
              "      fill: #174EA6;\n",
              "    }\n",
              "\n",
              "    [theme=dark] .colab-df-convert {\n",
              "      background-color: #3B4455;\n",
              "      fill: #D2E3FC;\n",
              "    }\n",
              "\n",
              "    [theme=dark] .colab-df-convert:hover {\n",
              "      background-color: #434B5C;\n",
              "      box-shadow: 0px 1px 3px 1px rgba(0, 0, 0, 0.15);\n",
              "      filter: drop-shadow(0px 1px 2px rgba(0, 0, 0, 0.3));\n",
              "      fill: #FFFFFF;\n",
              "    }\n",
              "  </style>\n",
              "\n",
              "      <script>\n",
              "        const buttonEl =\n",
              "          document.querySelector('#df-43e35e69-4ffa-4bcd-98df-e02993240262 button.colab-df-convert');\n",
              "        buttonEl.style.display =\n",
              "          google.colab.kernel.accessAllowed ? 'block' : 'none';\n",
              "\n",
              "        async function convertToInteractive(key) {\n",
              "          const element = document.querySelector('#df-43e35e69-4ffa-4bcd-98df-e02993240262');\n",
              "          const dataTable =\n",
              "            await google.colab.kernel.invokeFunction('convertToInteractive',\n",
              "                                                     [key], {});\n",
              "          if (!dataTable) return;\n",
              "\n",
              "          const docLinkHtml = 'Like what you see? Visit the ' +\n",
              "            '<a target=\"_blank\" href=https://colab.research.google.com/notebooks/data_table.ipynb>data table notebook</a>'\n",
              "            + ' to learn more about interactive tables.';\n",
              "          element.innerHTML = '';\n",
              "          dataTable['output_type'] = 'display_data';\n",
              "          await google.colab.output.renderOutput(dataTable, element);\n",
              "          const docLink = document.createElement('div');\n",
              "          docLink.innerHTML = docLinkHtml;\n",
              "          element.appendChild(docLink);\n",
              "        }\n",
              "      </script>\n",
              "    </div>\n",
              "  </div>\n",
              "  "
            ]
          },
          "metadata": {},
          "execution_count": 167
        }
      ]
    },
    {
      "cell_type": "code",
      "source": [
        "purchases.info() # пропусков нет"
      ],
      "metadata": {
        "colab": {
          "base_uri": "https://localhost:8080/"
        },
        "outputId": "cc84d915-99f9-473c-f0ca-4cf746b71fdf",
        "id": "lYc4zCH5WzN-"
      },
      "execution_count": null,
      "outputs": [
        {
          "output_type": "stream",
          "name": "stdout",
          "text": [
            "<class 'pandas.core.frame.DataFrame'>\n",
            "RangeIndex: 663849 entries, 0 to 663848\n",
            "Data columns (total 5 columns):\n",
            " #   Column            Non-Null Count   Dtype  \n",
            "---  ------            --------------   -----  \n",
            " 0   user_uid          663849 non-null  object \n",
            " 1   time              663849 non-null  float64\n",
            " 2   consumption_mode  663849 non-null  object \n",
            " 3   element_uid       663849 non-null  object \n",
            " 4   price             663849 non-null  float64\n",
            "dtypes: float64(2), object(3)\n",
            "memory usage: 25.3+ MB\n"
          ]
        }
      ]
    },
    {
      "cell_type": "code",
      "source": [
        "purchases.duplicated().sum()"
      ],
      "metadata": {
        "colab": {
          "base_uri": "https://localhost:8080/"
        },
        "outputId": "39bbc853-87fd-4134-8e95-39a46989bf1d",
        "id": "kh_jD9efWzOE"
      },
      "execution_count": null,
      "outputs": [
        {
          "output_type": "execute_result",
          "data": {
            "text/plain": [
              "0"
            ]
          },
          "metadata": {},
          "execution_count": 169
        }
      ]
    },
    {
      "cell_type": "code",
      "source": [
        "purchases['user_uid'].nunique() # половина пользователей сделала минимум 1 покупку"
      ],
      "metadata": {
        "colab": {
          "base_uri": "https://localhost:8080/"
        },
        "id": "8lmGjpzKW6eY",
        "outputId": "38b0fcf4-7435-44de-9613-6512cb4601da"
      },
      "execution_count": null,
      "outputs": [
        {
          "output_type": "execute_result",
          "data": {
            "text/plain": [
              "295200"
            ]
          },
          "metadata": {},
          "execution_count": 170
        }
      ]
    },
    {
      "cell_type": "code",
      "source": [
        "purchases['element_uid'].nunique()"
      ],
      "metadata": {
        "colab": {
          "base_uri": "https://localhost:8080/"
        },
        "id": "eLW4gTyhgIWn",
        "outputId": "4e43e80e-cc1a-484b-85cb-673313026d83"
      },
      "execution_count": null,
      "outputs": [
        {
          "output_type": "execute_result",
          "data": {
            "text/plain": [
              "6813"
            ]
          },
          "metadata": {},
          "execution_count": 171
        }
      ]
    },
    {
      "cell_type": "code",
      "source": [
        "purchases['price'].hist(bins=20)"
      ],
      "metadata": {
        "colab": {
          "base_uri": "https://localhost:8080/",
          "height": 386
        },
        "id": "dl2YpKujXCef",
        "outputId": "374818cf-48fa-4189-cfcc-80c896cda021"
      },
      "execution_count": null,
      "outputs": [
        {
          "output_type": "execute_result",
          "data": {
            "text/plain": [
              "<Axes: >"
            ]
          },
          "metadata": {},
          "execution_count": 172
        },
        {
          "output_type": "display_data",
          "data": {
            "text/plain": [
              "<Figure size 800x400 with 1 Axes>"
            ],
            "image/png": "[encoded data removed]"
          },
          "metadata": {}
        }
      ]
    },
    {
      "cell_type": "code",
      "source": [
        "sns.boxplot(x = purchases['price'])"
      ],
      "metadata": {
        "colab": {
          "base_uri": "https://localhost:8080/",
          "height": 405
        },
        "id": "jdd_ttAnXJV_",
        "outputId": "5cf844ff-c261-436b-ead7-cd75aae6a3a8"
      },
      "execution_count": null,
      "outputs": [
        {
          "output_type": "execute_result",
          "data": {
            "text/plain": [
              "<Axes: xlabel='price'>"
            ]
          },
          "metadata": {},
          "execution_count": 173
        },
        {
          "output_type": "display_data",
          "data": {
            "text/plain": [
              "<Figure size 800x400 with 1 Axes>"
            ],
            "image/png": "[encoded data removed]"
          },
          "metadata": {}
        }
      ]
    },
    {
      "cell_type": "code",
      "source": [
        "# Рассмотрим траты по категориям\n",
        "sns.boxplot(data=purchases, x='price', y='consumption_mode')"
      ],
      "metadata": {
        "colab": {
          "base_uri": "https://localhost:8080/",
          "height": 405
        },
        "id": "vRkChuTdXahO",
        "outputId": "9bc453e5-0779-49c6-98b6-1e8eec243876"
      },
      "execution_count": null,
      "outputs": [
        {
          "output_type": "execute_result",
          "data": {
            "text/plain": [
              "<Axes: xlabel='price', ylabel='consumption_mode'>"
            ]
          },
          "metadata": {},
          "execution_count": 174
        },
        {
          "output_type": "display_data",
          "data": {
            "text/plain": [
              "<Figure size 800x400 with 1 Axes>"
            ],
            "image/png": "[encoded data removed]"
          },
          "metadata": {}
        }
      ]
    },
    {
      "cell_type": "code",
      "source": [
        "purchases['consumption_mode'].value_counts()"
      ],
      "metadata": {
        "colab": {
          "base_uri": "https://localhost:8080/"
        },
        "id": "5QUVGzNvZ0te",
        "outputId": "49540aaa-0fee-42a0-c060-3f8865fbe38d"
      },
      "execution_count": null,
      "outputs": [
        {
          "output_type": "execute_result",
          "data": {
            "text/plain": [
              "dto             245276\n",
              "subscription    239897\n",
              "rent            178676\n",
              "Name: consumption_mode, dtype: int64"
            ]
          },
          "metadata": {},
          "execution_count": 175
        }
      ]
    },
    {
      "cell_type": "code",
      "source": [
        "# варианты подписок\n",
        "purchases.query('consumption_mode == \"subscription\"')['element_uid'].nunique()"
      ],
      "metadata": {
        "colab": {
          "base_uri": "https://localhost:8080/"
        },
        "id": "OoKyaSt9gUNd",
        "outputId": "8dfd92e5-529e-4d32-94de-d7245a89432d"
      },
      "execution_count": null,
      "outputs": [
        {
          "output_type": "execute_result",
          "data": {
            "text/plain": [
              "17"
            ]
          },
          "metadata": {},
          "execution_count": 176
        }
      ]
    },
    {
      "cell_type": "code",
      "source": [
        "purchases.query('consumption_mode == \"dto\"')['element_uid'].nunique()"
      ],
      "metadata": {
        "colab": {
          "base_uri": "https://localhost:8080/"
        },
        "id": "Szu742I3hF7r",
        "outputId": "44966805-5c26-4f37-ace8-7c6c437162a0"
      },
      "execution_count": null,
      "outputs": [
        {
          "output_type": "execute_result",
          "data": {
            "text/plain": [
              "5387"
            ]
          },
          "metadata": {},
          "execution_count": 177
        }
      ]
    },
    {
      "cell_type": "code",
      "source": [
        "purchases.query('consumption_mode == \"rent\"')['element_uid'].nunique()"
      ],
      "metadata": {
        "colab": {
          "base_uri": "https://localhost:8080/"
        },
        "id": "wRjEtx78hJr5",
        "outputId": "9a93e3e1-8968-41db-ccda-fa7cb9f84e11"
      },
      "execution_count": null,
      "outputs": [
        {
          "output_type": "execute_result",
          "data": {
            "text/plain": [
              "5084"
            ]
          },
          "metadata": {},
          "execution_count": 178
        }
      ]
    },
    {
      "cell_type": "code",
      "source": [
        "purchases.query('consumption_mode == \"subscription\"') \\\n",
        "        .groupby('price') \\\n",
        "        .agg({'user_uid':'count'}) \\\n",
        "        .sort_values('user_uid', ascending=False)"
      ],
      "metadata": {
        "colab": {
          "base_uri": "https://localhost:8080/",
          "height": 739
        },
        "id": "xvkVxxMSgBpl",
        "outputId": "315e1ac9-2e81-4c11-9775-082a61f37ff5"
      },
      "execution_count": null,
      "outputs": [
        {
          "output_type": "execute_result",
          "data": {
            "text/plain": [
              "            user_uid\n",
              "price               \n",
              "32.705882      60101\n",
              "44.470588      46044\n",
              "68.000000      45554\n",
              "38.588235      37137\n",
              "56.235294      31264\n",
              "21.058824      10589\n",
              "50.352941       4821\n",
              "53.294118       2803\n",
              "35.647059        618\n",
              "39.764706        376\n",
              "41.529412        163\n",
              "21.823529        140\n",
              "29.764706        100\n",
              "167.470588        79\n",
              "21.411765         47\n",
              "138.058824        32\n",
              "31.411765         12\n",
              "37.411765          5\n",
              "196.882353         5\n",
              "79.764706          4\n",
              "402.764706         3"
            ],
            "text/html": [
              "\n",
              "  <div id=\"df-c0ad58a8-de95-4186-80c8-bb39310babfd\">\n",
              "    <div class=\"colab-df-container\">\n",
              "      <div>\n",
              "<style scoped>\n",
              "    .dataframe tbody tr th:only-of-type {\n",
              "        vertical-align: middle;\n",
              "    }\n",
              "\n",
              "    .dataframe tbody tr th {\n",
              "        vertical-align: top;\n",
              "    }\n",
              "\n",
              "    .dataframe thead th {\n",
              "        text-align: right;\n",
              "    }\n",
              "</style>\n",
              "<table border=\"1\" class=\"dataframe\">\n",
              "  <thead>\n",
              "    <tr style=\"text-align: right;\">\n",
              "      <th></th>\n",
              "      <th>user_uid</th>\n",
              "    </tr>\n",
              "    <tr>\n",
              "      <th>price</th>\n",
              "      <th></th>\n",
              "    </tr>\n",
              "  </thead>\n",
              "  <tbody>\n",
              "    <tr>\n",
              "      <th>32.705882</th>\n",
              "      <td>60101</td>\n",
              "    </tr>\n",
              "    <tr>\n",
              "      <th>44.470588</th>\n",
              "      <td>46044</td>\n",
              "    </tr>\n",
              "    <tr>\n",
              "      <th>68.000000</th>\n",
              "      <td>45554</td>\n",
              "    </tr>\n",
              "    <tr>\n",
              "      <th>38.588235</th>\n",
              "      <td>37137</td>\n",
              "    </tr>\n",
              "    <tr>\n",
              "      <th>56.235294</th>\n",
              "      <td>31264</td>\n",
              "    </tr>\n",
              "    <tr>\n",
              "      <th>21.058824</th>\n",
              "      <td>10589</td>\n",
              "    </tr>\n",
              "    <tr>\n",
              "      <th>50.352941</th>\n",
              "      <td>4821</td>\n",
              "    </tr>\n",
              "    <tr>\n",
              "      <th>53.294118</th>\n",
              "      <td>2803</td>\n",
              "    </tr>\n",
              "    <tr>\n",
              "      <th>35.647059</th>\n",
              "      <td>618</td>\n",
              "    </tr>\n",
              "    <tr>\n",
              "      <th>39.764706</th>\n",
              "      <td>376</td>\n",
              "    </tr>\n",
              "    <tr>\n",
              "      <th>41.529412</th>\n",
              "      <td>163</td>\n",
              "    </tr>\n",
              "    <tr>\n",
              "      <th>21.823529</th>\n",
              "      <td>140</td>\n",
              "    </tr>\n",
              "    <tr>\n",
              "      <th>29.764706</th>\n",
              "      <td>100</td>\n",
              "    </tr>\n",
              "    <tr>\n",
              "      <th>167.470588</th>\n",
              "      <td>79</td>\n",
              "    </tr>\n",
              "    <tr>\n",
              "      <th>21.411765</th>\n",
              "      <td>47</td>\n",
              "    </tr>\n",
              "    <tr>\n",
              "      <th>138.058824</th>\n",
              "      <td>32</td>\n",
              "    </tr>\n",
              "    <tr>\n",
              "      <th>31.411765</th>\n",
              "      <td>12</td>\n",
              "    </tr>\n",
              "    <tr>\n",
              "      <th>37.411765</th>\n",
              "      <td>5</td>\n",
              "    </tr>\n",
              "    <tr>\n",
              "      <th>196.882353</th>\n",
              "      <td>5</td>\n",
              "    </tr>\n",
              "    <tr>\n",
              "      <th>79.764706</th>\n",
              "      <td>4</td>\n",
              "    </tr>\n",
              "    <tr>\n",
              "      <th>402.764706</th>\n",
              "      <td>3</td>\n",
              "    </tr>\n",
              "  </tbody>\n",
              "</table>\n",
              "</div>\n",
              "      <button class=\"colab-df-convert\" onclick=\"convertToInteractive('df-c0ad58a8-de95-4186-80c8-bb39310babfd')\"\n",
              "              title=\"Convert this dataframe to an interactive table.\"\n",
              "              style=\"display:none;\">\n",
              "        \n",
              "  <svg xmlns=\"http://www.w3.org/2000/svg\" height=\"24px\"viewBox=\"0 0 24 24\"\n",
              "       width=\"24px\">\n",
              "    <path d=\"M0 0h24v24H0V0z\" fill=\"none\"/>\n",
              "    <path d=\"M18.56 5.44l.94 2.06.94-2.06 2.06-.94-2.06-.94-.94-2.06-.94 2.06-2.06.94zm-11 1L8.5 8.5l.94-2.06 2.06-.94-2.06-.94L8.5 2.5l-.94 2.06-2.06.94zm10 10l.94 2.06.94-2.06 2.06-.94-2.06-.94-.94-2.06-.94 2.06-2.06.94z\"/><path d=\"M17.41 7.96l-1.37-1.37c-.4-.4-.92-.59-1.43-.59-.52 0-1.04.2-1.43.59L10.3 9.45l-7.72 7.72c-.78.78-.78 2.05 0 2.83L4 21.41c.39.39.9.59 1.41.59.51 0 1.02-.2 1.41-.59l7.78-7.78 2.81-2.81c.8-.78.8-2.07 0-2.86zM5.41 20L4 18.59l7.72-7.72 1.47 1.35L5.41 20z\"/>\n",
              "  </svg>\n",
              "      </button>\n",
              "      \n",
              "  <style>\n",
              "    .colab-df-container {\n",
              "      display:flex;\n",
              "      flex-wrap:wrap;\n",
              "      gap: 12px;\n",
              "    }\n",
              "\n",
              "    .colab-df-convert {\n",
              "      background-color: #E8F0FE;\n",
              "      border: none;\n",
              "      border-radius: 50%;\n",
              "      cursor: pointer;\n",
              "      display: none;\n",
              "      fill: #1967D2;\n",
              "      height: 32px;\n",
              "      padding: 0 0 0 0;\n",
              "      width: 32px;\n",
              "    }\n",
              "\n",
              "    .colab-df-convert:hover {\n",
              "      background-color: #E2EBFA;\n",
              "      box-shadow: 0px 1px 2px rgba(60, 64, 67, 0.3), 0px 1px 3px 1px rgba(60, 64, 67, 0.15);\n",
              "      fill: #174EA6;\n",
              "    }\n",
              "\n",
              "    [theme=dark] .colab-df-convert {\n",
              "      background-color: #3B4455;\n",
              "      fill: #D2E3FC;\n",
              "    }\n",
              "\n",
              "    [theme=dark] .colab-df-convert:hover {\n",
              "      background-color: #434B5C;\n",
              "      box-shadow: 0px 1px 3px 1px rgba(0, 0, 0, 0.15);\n",
              "      filter: drop-shadow(0px 1px 2px rgba(0, 0, 0, 0.3));\n",
              "      fill: #FFFFFF;\n",
              "    }\n",
              "  </style>\n",
              "\n",
              "      <script>\n",
              "        const buttonEl =\n",
              "          document.querySelector('#df-c0ad58a8-de95-4186-80c8-bb39310babfd button.colab-df-convert');\n",
              "        buttonEl.style.display =\n",
              "          google.colab.kernel.accessAllowed ? 'block' : 'none';\n",
              "\n",
              "        async function convertToInteractive(key) {\n",
              "          const element = document.querySelector('#df-c0ad58a8-de95-4186-80c8-bb39310babfd');\n",
              "          const dataTable =\n",
              "            await google.colab.kernel.invokeFunction('convertToInteractive',\n",
              "                                                     [key], {});\n",
              "          if (!dataTable) return;\n",
              "\n",
              "          const docLinkHtml = 'Like what you see? Visit the ' +\n",
              "            '<a target=\"_blank\" href=https://colab.research.google.com/notebooks/data_table.ipynb>data table notebook</a>'\n",
              "            + ' to learn more about interactive tables.';\n",
              "          element.innerHTML = '';\n",
              "          dataTable['output_type'] = 'display_data';\n",
              "          await google.colab.output.renderOutput(dataTable, element);\n",
              "          const docLink = document.createElement('div');\n",
              "          docLink.innerHTML = docLinkHtml;\n",
              "          element.appendChild(docLink);\n",
              "        }\n",
              "      </script>\n",
              "    </div>\n",
              "  </div>\n",
              "  "
            ]
          },
          "metadata": {},
          "execution_count": 179
        }
      ]
    },
    {
      "cell_type": "code",
      "source": [
        "# покупки пользователей из пересечений\n",
        "purchases.query('user_uid in @double_users')"
      ],
      "metadata": {
        "colab": {
          "base_uri": "https://localhost:8080/",
          "height": 423
        },
        "id": "sn4tLO9uM7Wa",
        "outputId": "ceb343be-7ac2-4919-ccc9-65f5f0df4712"
      },
      "execution_count": null,
      "outputs": [
        {
          "output_type": "execute_result",
          "data": {
            "text/plain": [
              "                                user_uid          time consumption_mode  \\\n",
              "175     f93fd3d77354b58dfd19ca87ca4a7ec6  30158.617484              dto   \n",
              "223     b80eeae67ca6fe26d9f4adbc0e567a55  30158.611271              dto   \n",
              "348     0a709d0fcf5d2215671ab511c45b1727  30158.597767              dto   \n",
              "378     f7bd3458108297d0b793c7402cdd3abe  30158.593757              dto   \n",
              "408     1c9b0952cd7e79be29a7da9b0885df56  30158.590351              dto   \n",
              "...                                  ...           ...              ...   \n",
              "663353  41264207fc231c5cc036866e437687e7  30106.516782              dto   \n",
              "663519  a250b44c72153f6dd510e752629b3089  30106.508138             rent   \n",
              "663579  2122226ec9fd99ff20b6086915bd4bb4  30106.504572     subscription   \n",
              "663590  83dee65e8616fb19955569673985db4a  30106.504015     subscription   \n",
              "663809  955187f087d15b42e82b6f0f47ace02f  30106.493431             rent   \n",
              "\n",
              "                             element_uid      price  \n",
              "175     7af6df3758b7e4729261a7f56db60aae  38.588235  \n",
              "223     a5350e34697ae064a5e65c2e46e6b037  21.058824  \n",
              "348     cb96963fab63f5aa274c1d5fb441c52a  44.470588  \n",
              "378     ce0707f6b5e575c4def98f35a4c02c59  38.588235  \n",
              "408     8256d0fc7b25382aacfec0066e39cde3  38.588235  \n",
              "...                                  ...        ...  \n",
              "663353  5aa724c0393087cde3a18c625b310645  21.058824  \n",
              "663519  0a5d74a8a6efa47f7b790e5d0468842b  26.823529  \n",
              "663579  dd7f3f7b10fb9b502cbc5d1a9abc067b  21.058824  \n",
              "663590  dd7f3f7b10fb9b502cbc5d1a9abc067b  44.470588  \n",
              "663809  05ceabdc30a0a000ee4b67171476b08f  26.823529  \n",
              "\n",
              "[3548 rows x 5 columns]"
            ],
            "text/html": [
              "\n",
              "  <div id=\"df-e3acc671-8a6b-4439-85e0-04b233cc7d49\">\n",
              "    <div class=\"colab-df-container\">\n",
              "      <div>\n",
              "<style scoped>\n",
              "    .dataframe tbody tr th:only-of-type {\n",
              "        vertical-align: middle;\n",
              "    }\n",
              "\n",
              "    .dataframe tbody tr th {\n",
              "        vertical-align: top;\n",
              "    }\n",
              "\n",
              "    .dataframe thead th {\n",
              "        text-align: right;\n",
              "    }\n",
              "</style>\n",
              "<table border=\"1\" class=\"dataframe\">\n",
              "  <thead>\n",
              "    <tr style=\"text-align: right;\">\n",
              "      <th></th>\n",
              "      <th>user_uid</th>\n",
              "      <th>time</th>\n",
              "      <th>consumption_mode</th>\n",
              "      <th>element_uid</th>\n",
              "      <th>price</th>\n",
              "    </tr>\n",
              "  </thead>\n",
              "  <tbody>\n",
              "    <tr>\n",
              "      <th>175</th>\n",
              "      <td>f93fd3d77354b58dfd19ca87ca4a7ec6</td>\n",
              "      <td>30158.617484</td>\n",
              "      <td>dto</td>\n",
              "      <td>7af6df3758b7e4729261a7f56db60aae</td>\n",
              "      <td>38.588235</td>\n",
              "    </tr>\n",
              "    <tr>\n",
              "      <th>223</th>\n",
              "      <td>b80eeae67ca6fe26d9f4adbc0e567a55</td>\n",
              "      <td>30158.611271</td>\n",
              "      <td>dto</td>\n",
              "      <td>a5350e34697ae064a5e65c2e46e6b037</td>\n",
              "      <td>21.058824</td>\n",
              "    </tr>\n",
              "    <tr>\n",
              "      <th>348</th>\n",
              "      <td>0a709d0fcf5d2215671ab511c45b1727</td>\n",
              "      <td>30158.597767</td>\n",
              "      <td>dto</td>\n",
              "      <td>cb96963fab63f5aa274c1d5fb441c52a</td>\n",
              "      <td>44.470588</td>\n",
              "    </tr>\n",
              "    <tr>\n",
              "      <th>378</th>\n",
              "      <td>f7bd3458108297d0b793c7402cdd3abe</td>\n",
              "      <td>30158.593757</td>\n",
              "      <td>dto</td>\n",
              "      <td>ce0707f6b5e575c4def98f35a4c02c59</td>\n",
              "      <td>38.588235</td>\n",
              "    </tr>\n",
              "    <tr>\n",
              "      <th>408</th>\n",
              "      <td>1c9b0952cd7e79be29a7da9b0885df56</td>\n",
              "      <td>30158.590351</td>\n",
              "      <td>dto</td>\n",
              "      <td>8256d0fc7b25382aacfec0066e39cde3</td>\n",
              "      <td>38.588235</td>\n",
              "    </tr>\n",
              "    <tr>\n",
              "      <th>...</th>\n",
              "      <td>...</td>\n",
              "      <td>...</td>\n",
              "      <td>...</td>\n",
              "      <td>...</td>\n",
              "      <td>...</td>\n",
              "    </tr>\n",
              "    <tr>\n",
              "      <th>663353</th>\n",
              "      <td>41264207fc231c5cc036866e437687e7</td>\n",
              "      <td>30106.516782</td>\n",
              "      <td>dto</td>\n",
              "      <td>5aa724c0393087cde3a18c625b310645</td>\n",
              "      <td>21.058824</td>\n",
              "    </tr>\n",
              "    <tr>\n",
              "      <th>663519</th>\n",
              "      <td>a250b44c72153f6dd510e752629b3089</td>\n",
              "      <td>30106.508138</td>\n",
              "      <td>rent</td>\n",
              "      <td>0a5d74a8a6efa47f7b790e5d0468842b</td>\n",
              "      <td>26.823529</td>\n",
              "    </tr>\n",
              "    <tr>\n",
              "      <th>663579</th>\n",
              "      <td>2122226ec9fd99ff20b6086915bd4bb4</td>\n",
              "      <td>30106.504572</td>\n",
              "      <td>subscription</td>\n",
              "      <td>dd7f3f7b10fb9b502cbc5d1a9abc067b</td>\n",
              "      <td>21.058824</td>\n",
              "    </tr>\n",
              "    <tr>\n",
              "      <th>663590</th>\n",
              "      <td>83dee65e8616fb19955569673985db4a</td>\n",
              "      <td>30106.504015</td>\n",
              "      <td>subscription</td>\n",
              "      <td>dd7f3f7b10fb9b502cbc5d1a9abc067b</td>\n",
              "      <td>44.470588</td>\n",
              "    </tr>\n",
              "    <tr>\n",
              "      <th>663809</th>\n",
              "      <td>955187f087d15b42e82b6f0f47ace02f</td>\n",
              "      <td>30106.493431</td>\n",
              "      <td>rent</td>\n",
              "      <td>05ceabdc30a0a000ee4b67171476b08f</td>\n",
              "      <td>26.823529</td>\n",
              "    </tr>\n",
              "  </tbody>\n",
              "</table>\n",
              "<p>3548 rows × 5 columns</p>\n",
              "</div>\n",
              "      <button class=\"colab-df-convert\" onclick=\"convertToInteractive('df-e3acc671-8a6b-4439-85e0-04b233cc7d49')\"\n",
              "              title=\"Convert this dataframe to an interactive table.\"\n",
              "              style=\"display:none;\">\n",
              "        \n",
              "  <svg xmlns=\"http://www.w3.org/2000/svg\" height=\"24px\"viewBox=\"0 0 24 24\"\n",
              "       width=\"24px\">\n",
              "    <path d=\"M0 0h24v24H0V0z\" fill=\"none\"/>\n",
              "    <path d=\"M18.56 5.44l.94 2.06.94-2.06 2.06-.94-2.06-.94-.94-2.06-.94 2.06-2.06.94zm-11 1L8.5 8.5l.94-2.06 2.06-.94-2.06-.94L8.5 2.5l-.94 2.06-2.06.94zm10 10l.94 2.06.94-2.06 2.06-.94-2.06-.94-.94-2.06-.94 2.06-2.06.94z\"/><path d=\"M17.41 7.96l-1.37-1.37c-.4-.4-.92-.59-1.43-.59-.52 0-1.04.2-1.43.59L10.3 9.45l-7.72 7.72c-.78.78-.78 2.05 0 2.83L4 21.41c.39.39.9.59 1.41.59.51 0 1.02-.2 1.41-.59l7.78-7.78 2.81-2.81c.8-.78.8-2.07 0-2.86zM5.41 20L4 18.59l7.72-7.72 1.47 1.35L5.41 20z\"/>\n",
              "  </svg>\n",
              "      </button>\n",
              "      \n",
              "  <style>\n",
              "    .colab-df-container {\n",
              "      display:flex;\n",
              "      flex-wrap:wrap;\n",
              "      gap: 12px;\n",
              "    }\n",
              "\n",
              "    .colab-df-convert {\n",
              "      background-color: #E8F0FE;\n",
              "      border: none;\n",
              "      border-radius: 50%;\n",
              "      cursor: pointer;\n",
              "      display: none;\n",
              "      fill: #1967D2;\n",
              "      height: 32px;\n",
              "      padding: 0 0 0 0;\n",
              "      width: 32px;\n",
              "    }\n",
              "\n",
              "    .colab-df-convert:hover {\n",
              "      background-color: #E2EBFA;\n",
              "      box-shadow: 0px 1px 2px rgba(60, 64, 67, 0.3), 0px 1px 3px 1px rgba(60, 64, 67, 0.15);\n",
              "      fill: #174EA6;\n",
              "    }\n",
              "\n",
              "    [theme=dark] .colab-df-convert {\n",
              "      background-color: #3B4455;\n",
              "      fill: #D2E3FC;\n",
              "    }\n",
              "\n",
              "    [theme=dark] .colab-df-convert:hover {\n",
              "      background-color: #434B5C;\n",
              "      box-shadow: 0px 1px 3px 1px rgba(0, 0, 0, 0.15);\n",
              "      filter: drop-shadow(0px 1px 2px rgba(0, 0, 0, 0.3));\n",
              "      fill: #FFFFFF;\n",
              "    }\n",
              "  </style>\n",
              "\n",
              "      <script>\n",
              "        const buttonEl =\n",
              "          document.querySelector('#df-e3acc671-8a6b-4439-85e0-04b233cc7d49 button.colab-df-convert');\n",
              "        buttonEl.style.display =\n",
              "          google.colab.kernel.accessAllowed ? 'block' : 'none';\n",
              "\n",
              "        async function convertToInteractive(key) {\n",
              "          const element = document.querySelector('#df-e3acc671-8a6b-4439-85e0-04b233cc7d49');\n",
              "          const dataTable =\n",
              "            await google.colab.kernel.invokeFunction('convertToInteractive',\n",
              "                                                     [key], {});\n",
              "          if (!dataTable) return;\n",
              "\n",
              "          const docLinkHtml = 'Like what you see? Visit the ' +\n",
              "            '<a target=\"_blank\" href=https://colab.research.google.com/notebooks/data_table.ipynb>data table notebook</a>'\n",
              "            + ' to learn more about interactive tables.';\n",
              "          element.innerHTML = '';\n",
              "          dataTable['output_type'] = 'display_data';\n",
              "          await google.colab.output.renderOutput(dataTable, element);\n",
              "          const docLink = document.createElement('div');\n",
              "          docLink.innerHTML = docLinkHtml;\n",
              "          element.appendChild(docLink);\n",
              "        }\n",
              "      </script>\n",
              "    </div>\n",
              "  </div>\n",
              "  "
            ]
          },
          "metadata": {},
          "execution_count": 180
        }
      ]
    },
    {
      "cell_type": "markdown",
      "source": [
        "Наименьший разброс по тратам у контента, взятого в аренду, наибольший - контент по подписке. При этом разная цена подписки возможно означает вариативность тарифного плана и числа месяцев (или другой временной единицы). Последнее объясняет выбросы. Также возможен вариант применения промокода"
      ],
      "metadata": {
        "id": "98v8KgNSaDvm"
      }
    },
    {
      "cell_type": "markdown",
      "source": [
        "# Проверка результатов А/Б/n теста\n",
        "Как и писал выше, для начала надо удалить пользоваталей в пересечениях. Возможно это скажется на мощности, но как интерпритировать множественное сравнение с пересечениями, я плохо понимаю.\n",
        "\n",
        "Чтобы посчитать ту же конверсию, нам нужны пользователи, которые делали и не делали покупок, поэтому левой таблицей будут пользователи, правой - покупки. После мерджа необходимо отобрать только те записи, где покупки были совершены после присвоения группы. Также надо не забыть про пустые записи - покуппок не было."
      ],
      "metadata": {
        "id": "UWC5V4lcye-Y"
      }
    },
    {
      "cell_type": "code",
      "source": [
        "users_not_d = users.query('user_uid not in @double_users')"
      ],
      "metadata": {
        "id": "bMitLWSfSiXV"
      },
      "execution_count": null,
      "outputs": []
    },
    {
      "cell_type": "code",
      "source": [
        "users_not_d['user_uid'].nunique() == len(users_not_d)"
      ],
      "metadata": {
        "colab": {
          "base_uri": "https://localhost:8080/"
        },
        "id": "ijHmANX4Sx9r",
        "outputId": "2bd68bcd-883f-4f42-f7a3-160ed2b2215c"
      },
      "execution_count": null,
      "outputs": [
        {
          "output_type": "execute_result",
          "data": {
            "text/plain": [
              "True"
            ]
          },
          "metadata": {},
          "execution_count": 182
        }
      ]
    },
    {
      "cell_type": "code",
      "source": [
        "t = users_not_d.merge(purchases, how='left', on='user_uid')"
      ],
      "metadata": {
        "id": "NnxAhbn5LT-c"
      },
      "execution_count": null,
      "outputs": []
    },
    {
      "cell_type": "code",
      "source": [
        "len(t)"
      ],
      "metadata": {
        "colab": {
          "base_uri": "https://localhost:8080/"
        },
        "id": "FejTC0V0O2Cq",
        "outputId": "ba0645a0-97eb-4572-c757-255e3792938d"
      },
      "execution_count": null,
      "outputs": [
        {
          "output_type": "execute_result",
          "data": {
            "text/plain": [
              "1058881"
            ]
          },
          "metadata": {},
          "execution_count": 184
        }
      ]
    },
    {
      "cell_type": "code",
      "source": [
        "# отберем пользоваталей по условию\n",
        "pre_final_table = t.query('ts < time or time != time')"
      ],
      "metadata": {
        "id": "pjEy8E0pO3ia"
      },
      "execution_count": null,
      "outputs": []
    },
    {
      "cell_type": "code",
      "source": [
        "len(pre_final_table)"
      ],
      "metadata": {
        "colab": {
          "base_uri": "https://localhost:8080/"
        },
        "id": "JkMMiUm5PFwB",
        "outputId": "311895c9-0c3d-4509-bd19-4e7578f418fa"
      },
      "execution_count": null,
      "outputs": [
        {
          "output_type": "execute_result",
          "data": {
            "text/plain": [
              "675358"
            ]
          },
          "metadata": {},
          "execution_count": 186
        }
      ]
    },
    {
      "cell_type": "code",
      "source": [
        "len(pre_final_table.query('time == conv_ts'))"
      ],
      "metadata": {
        "colab": {
          "base_uri": "https://localhost:8080/"
        },
        "id": "RigX8whuXRHc",
        "outputId": "fd340b3e-9edc-458a-d676-46c9f50e0115"
      },
      "execution_count": null,
      "outputs": [
        {
          "output_type": "execute_result",
          "data": {
            "text/plain": [
              "0"
            ]
          },
          "metadata": {},
          "execution_count": 187
        }
      ]
    },
    {
      "cell_type": "markdown",
      "source": [
        "Ни одна из покупок не является первой. Варианты, почему так:\n",
        "- так и есть\n",
        "- возможно время транзакций не совпадает с покупкой (разница в секундах, что обнаружить на таких данных не получится)\n",
        "- моя ошибка, но вроде все перепроверил:)"
      ],
      "metadata": {
        "id": "lS21Xdf1YWKT"
      }
    },
    {
      "cell_type": "markdown",
      "source": [
        "## Выбор метрик\n",
        "Исходя из данных, можно проверить следующие метрики\n",
        "1. ARPU - сколько в среднем приходится на пользователя\n",
        "2. ARPPU (AOV) - средняя сумма на платящего пользователя\n",
        "3. Конверсия в покупку\n",
        "4. Среднее число покупок на пользователя APC"
      ],
      "metadata": {
        "id": "1dAHSciAWZ27"
      }
    },
    {
      "cell_type": "code",
      "source": [
        "# оставим нужное\n",
        "final_table = pre_final_table[['tag', 'user_uid', 'consumption_mode', 'price']]"
      ],
      "metadata": {
        "id": "7VboKebsPGik"
      },
      "execution_count": null,
      "outputs": []
    },
    {
      "cell_type": "code",
      "source": [
        "final_table = final_table.fillna({'price': 0})"
      ],
      "metadata": {
        "id": "o0ng5MOMRObL"
      },
      "execution_count": null,
      "outputs": []
    },
    {
      "cell_type": "code",
      "source": [
        "purchases['price'].sum() # сравним суммы до и после соединения"
      ],
      "metadata": {
        "colab": {
          "base_uri": "https://localhost:8080/"
        },
        "id": "17r5WWDeuGM7",
        "outputId": "7c09c93e-176a-454b-b0f0-4065208617be"
      },
      "execution_count": null,
      "outputs": [
        {
          "output_type": "execute_result",
          "data": {
            "text/plain": [
              "24523353.11764706"
            ]
          },
          "metadata": {},
          "execution_count": 190
        }
      ]
    },
    {
      "cell_type": "code",
      "source": [
        "t['price'].sum()  # здесь меньше, что хорошо"
      ],
      "metadata": {
        "colab": {
          "base_uri": "https://localhost:8080/"
        },
        "id": "_ddLvo8VuGK0",
        "outputId": "aa29db81-baf7-43d0-f878-834e9bdd439d"
      },
      "execution_count": null,
      "outputs": [
        {
          "output_type": "execute_result",
          "data": {
            "text/plain": [
              "24390995.823529404"
            ]
          },
          "metadata": {},
          "execution_count": 191
        }
      ]
    },
    {
      "cell_type": "markdown",
      "source": [
        "## ARPU\n",
        "Для множественных сравнений годится дисперсионный анализ (однофакторный в данном случае, F-тест). Так как выборки достаточно большие во всех группах, то условеим для применения теста Фишера является гомогенность дисперсий во всех группах."
      ],
      "metadata": {
        "id": "GGTshONIZ6NX"
      }
    },
    {
      "cell_type": "code",
      "source": [
        "sns.boxplot(data=final_table, x='price', y='tag') # половина 0"
      ],
      "metadata": {
        "colab": {
          "base_uri": "https://localhost:8080/",
          "height": 405
        },
        "id": "Xedf8IoYooYl",
        "outputId": "a3a1ce4c-70e6-4275-c0cc-b7fb0e8331aa"
      },
      "execution_count": null,
      "outputs": [
        {
          "output_type": "execute_result",
          "data": {
            "text/plain": [
              "<Axes: xlabel='price', ylabel='tag'>"
            ]
          },
          "metadata": {},
          "execution_count": 192
        },
        {
          "output_type": "display_data",
          "data": {
            "text/plain": [
              "<Figure size 800x400 with 1 Axes>"
            ],
            "image/png": "[encoded data removed]"
          },
          "metadata": {}
        }
      ]
    },
    {
      "cell_type": "code",
      "source": [
        "sns.violinplot(data=final_table, x='price', y='tag')"
      ],
      "metadata": {
        "colab": {
          "base_uri": "https://localhost:8080/",
          "height": 405
        },
        "id": "JVJz0RBb7foJ",
        "outputId": "7eac3fec-a99f-4c9d-e252-e5b18a7a76db"
      },
      "execution_count": null,
      "outputs": [
        {
          "output_type": "execute_result",
          "data": {
            "text/plain": [
              "<Axes: xlabel='price', ylabel='tag'>"
            ]
          },
          "metadata": {},
          "execution_count": 193
        },
        {
          "output_type": "display_data",
          "data": {
            "text/plain": [
              "<Figure size 800x400 with 1 Axes>"
            ],
            "image/png": "[encoded data removed]"
          },
          "metadata": {}
        }
      ]
    },
    {
      "cell_type": "code",
      "source": [
        "# посмотрим на некотореы распределения\n",
        "final_table.query('tag == \"test1\"')['price'].hist(bins=20)\n",
        "final_table.query('tag == \"test2\"')['price'].hist(bins=20)\n",
        "final_table.query('tag == \"test3\"')['price'].hist(bins=20)"
      ],
      "metadata": {
        "colab": {
          "base_uri": "https://localhost:8080/",
          "height": 386
        },
        "id": "lttomZsT7yOR",
        "outputId": "f568cbe1-0312-45dc-9e03-584a998d6d16"
      },
      "execution_count": null,
      "outputs": [
        {
          "output_type": "execute_result",
          "data": {
            "text/plain": [
              "<Axes: >"
            ]
          },
          "metadata": {},
          "execution_count": 194
        },
        {
          "output_type": "display_data",
          "data": {
            "text/plain": [
              "<Figure size 800x400 with 1 Axes>"
            ],
            "image/png": "[encoded data removed]"
          },
          "metadata": {}
        }
      ]
    },
    {
      "cell_type": "markdown",
      "source": [
        "Распределение скошено влево, имеются жирные хвосты во всех группах. Посмотрим на дисперсии"
      ],
      "metadata": {
        "id": "kjLubAUPC9yj"
      }
    },
    {
      "cell_type": "code",
      "source": [
        "test1 = np.array(final_table.query('tag == \"test1\"')['price'])\n",
        "test2 = np.array(final_table.query('tag == \"test2\"')['price'])\n",
        "test3 = np.array(final_table.query('tag == \"test3\"')['price'])\n",
        "test4 = np.array(final_table.query('tag == \"test4\"')['price'])\n",
        "control = np.array(final_table.query('tag == \"control\"')['price'])"
      ],
      "metadata": {
        "id": "QzqeoQvsDgYO"
      },
      "execution_count": null,
      "outputs": []
    },
    {
      "cell_type": "markdown",
      "source": [
        "Выдвигаемые гипотезы:\n",
        "\n",
        "**H0: во всех группах дисперсии равны**\n",
        "\n",
        "**H1: дисперсии в группах не равны**\n",
        "\n",
        "**альфа=0.05**"
      ],
      "metadata": {
        "id": "vErl5X3bGWTl"
      }
    },
    {
      "cell_type": "code",
      "source": [
        "stat, p = levene(test1, test2, test3, test4, control)\n",
        "p"
      ],
      "metadata": {
        "colab": {
          "base_uri": "https://localhost:8080/"
        },
        "id": "taSYQwECCdeP",
        "outputId": "fc4bb644-6384-497c-f7d0-d343faeed324"
      },
      "execution_count": null,
      "outputs": [
        {
          "output_type": "execute_result",
          "data": {
            "text/plain": [
              "1.0419932212553528e-10"
            ]
          },
          "metadata": {},
          "execution_count": 196
        }
      ]
    },
    {
      "cell_type": "markdown",
      "source": [
        "p-value оказался меньше заданной ошибки первого рода. Поэтому нулевая гипотеза о гомогенности дисперсий отвергается. В таком случае можно воспользоваться дисперсионным анализом Уэлча\n",
        "\n"
      ],
      "metadata": {
        "id": "0CYoWngNE2I_"
      }
    },
    {
      "cell_type": "code",
      "source": [
        "pg.welch_anova(data=final_table,\n",
        "               dv='price',\n",
        "               between='tag')"
      ],
      "metadata": {
        "colab": {
          "base_uri": "https://localhost:8080/",
          "height": 81
        },
        "id": "rbUOBv2RVR36",
        "outputId": "11d9b8dc-a2a9-4ca9-d5ee-09caa675f4c9"
      },
      "execution_count": null,
      "outputs": [
        {
          "output_type": "execute_result",
          "data": {
            "text/plain": [
              "  Source  ddof1          ddof2          F         p-unc       np2\n",
              "0    tag      4  337622.354373  13.115009  1.107428e-10  0.000078"
            ],
            "text/html": [
              "\n",
              "  <div id=\"df-d90b15bb-aaa7-42bb-887e-db7d19f80d80\">\n",
              "    <div class=\"colab-df-container\">\n",
              "      <div>\n",
              "<style scoped>\n",
              "    .dataframe tbody tr th:only-of-type {\n",
              "        vertical-align: middle;\n",
              "    }\n",
              "\n",
              "    .dataframe tbody tr th {\n",
              "        vertical-align: top;\n",
              "    }\n",
              "\n",
              "    .dataframe thead th {\n",
              "        text-align: right;\n",
              "    }\n",
              "</style>\n",
              "<table border=\"1\" class=\"dataframe\">\n",
              "  <thead>\n",
              "    <tr style=\"text-align: right;\">\n",
              "      <th></th>\n",
              "      <th>Source</th>\n",
              "      <th>ddof1</th>\n",
              "      <th>ddof2</th>\n",
              "      <th>F</th>\n",
              "      <th>p-unc</th>\n",
              "      <th>np2</th>\n",
              "    </tr>\n",
              "  </thead>\n",
              "  <tbody>\n",
              "    <tr>\n",
              "      <th>0</th>\n",
              "      <td>tag</td>\n",
              "      <td>4</td>\n",
              "      <td>337622.354373</td>\n",
              "      <td>13.115009</td>\n",
              "      <td>1.107428e-10</td>\n",
              "      <td>0.000078</td>\n",
              "    </tr>\n",
              "  </tbody>\n",
              "</table>\n",
              "</div>\n",
              "      <button class=\"colab-df-convert\" onclick=\"convertToInteractive('df-d90b15bb-aaa7-42bb-887e-db7d19f80d80')\"\n",
              "              title=\"Convert this dataframe to an interactive table.\"\n",
              "              style=\"display:none;\">\n",
              "        \n",
              "  <svg xmlns=\"http://www.w3.org/2000/svg\" height=\"24px\"viewBox=\"0 0 24 24\"\n",
              "       width=\"24px\">\n",
              "    <path d=\"M0 0h24v24H0V0z\" fill=\"none\"/>\n",
              "    <path d=\"M18.56 5.44l.94 2.06.94-2.06 2.06-.94-2.06-.94-.94-2.06-.94 2.06-2.06.94zm-11 1L8.5 8.5l.94-2.06 2.06-.94-2.06-.94L8.5 2.5l-.94 2.06-2.06.94zm10 10l.94 2.06.94-2.06 2.06-.94-2.06-.94-.94-2.06-.94 2.06-2.06.94z\"/><path d=\"M17.41 7.96l-1.37-1.37c-.4-.4-.92-.59-1.43-.59-.52 0-1.04.2-1.43.59L10.3 9.45l-7.72 7.72c-.78.78-.78 2.05 0 2.83L4 21.41c.39.39.9.59 1.41.59.51 0 1.02-.2 1.41-.59l7.78-7.78 2.81-2.81c.8-.78.8-2.07 0-2.86zM5.41 20L4 18.59l7.72-7.72 1.47 1.35L5.41 20z\"/>\n",
              "  </svg>\n",
              "      </button>\n",
              "      \n",
              "  <style>\n",
              "    .colab-df-container {\n",
              "      display:flex;\n",
              "      flex-wrap:wrap;\n",
              "      gap: 12px;\n",
              "    }\n",
              "\n",
              "    .colab-df-convert {\n",
              "      background-color: #E8F0FE;\n",
              "      border: none;\n",
              "      border-radius: 50%;\n",
              "      cursor: pointer;\n",
              "      display: none;\n",
              "      fill: #1967D2;\n",
              "      height: 32px;\n",
              "      padding: 0 0 0 0;\n",
              "      width: 32px;\n",
              "    }\n",
              "\n",
              "    .colab-df-convert:hover {\n",
              "      background-color: #E2EBFA;\n",
              "      box-shadow: 0px 1px 2px rgba(60, 64, 67, 0.3), 0px 1px 3px 1px rgba(60, 64, 67, 0.15);\n",
              "      fill: #174EA6;\n",
              "    }\n",
              "\n",
              "    [theme=dark] .colab-df-convert {\n",
              "      background-color: #3B4455;\n",
              "      fill: #D2E3FC;\n",
              "    }\n",
              "\n",
              "    [theme=dark] .colab-df-convert:hover {\n",
              "      background-color: #434B5C;\n",
              "      box-shadow: 0px 1px 3px 1px rgba(0, 0, 0, 0.15);\n",
              "      filter: drop-shadow(0px 1px 2px rgba(0, 0, 0, 0.3));\n",
              "      fill: #FFFFFF;\n",
              "    }\n",
              "  </style>\n",
              "\n",
              "      <script>\n",
              "        const buttonEl =\n",
              "          document.querySelector('#df-d90b15bb-aaa7-42bb-887e-db7d19f80d80 button.colab-df-convert');\n",
              "        buttonEl.style.display =\n",
              "          google.colab.kernel.accessAllowed ? 'block' : 'none';\n",
              "\n",
              "        async function convertToInteractive(key) {\n",
              "          const element = document.querySelector('#df-d90b15bb-aaa7-42bb-887e-db7d19f80d80');\n",
              "          const dataTable =\n",
              "            await google.colab.kernel.invokeFunction('convertToInteractive',\n",
              "                                                     [key], {});\n",
              "          if (!dataTable) return;\n",
              "\n",
              "          const docLinkHtml = 'Like what you see? Visit the ' +\n",
              "            '<a target=\"_blank\" href=https://colab.research.google.com/notebooks/data_table.ipynb>data table notebook</a>'\n",
              "            + ' to learn more about interactive tables.';\n",
              "          element.innerHTML = '';\n",
              "          dataTable['output_type'] = 'display_data';\n",
              "          await google.colab.output.renderOutput(dataTable, element);\n",
              "          const docLink = document.createElement('div');\n",
              "          docLink.innerHTML = docLinkHtml;\n",
              "          element.appendChild(docLink);\n",
              "        }\n",
              "      </script>\n",
              "    </div>\n",
              "  </div>\n",
              "  "
            ]
          },
          "metadata": {},
          "execution_count": 197
        }
      ]
    },
    {
      "cell_type": "markdown",
      "source": [
        "p-value меньше заданной альфа, значит мы праве отвергнуть нулевую гипотезу о равенстве средних. При этом размер эффекта близок к 0. Далее нужно попарно сравнить выборки и найти, где есть отличия. Для этого необходимо воспользоваться тестом Геймса-Хоувелла, который используется при попарном сравнении выборок с разной дисперсией.\n",
        "\n",
        "Также необходима корректировка вероятности ошибки первого рода: сравнений 10, поэтому воспользуемся самой консервативной корректировкой - поправкой Бонферрони, когда альфа делится на число сравнений.\n",
        "\n",
        "Выдвигаемые гипотезы:\n",
        "\n",
        "**H0: средние двух сравниваемых групп равны**\n",
        "\n",
        "**H1: средние двух сравниваемых групп не равны**\n",
        "\n",
        "**альфа = 0.005**"
      ],
      "metadata": {
        "id": "PLQdx3-AVsNM"
      }
    },
    {
      "cell_type": "code",
      "source": [
        "pg.pairwise_gameshowell(data=final_table, \n",
        "                        dv='price', \n",
        "                        between='tag')"
      ],
      "metadata": {
        "colab": {
          "base_uri": "https://localhost:8080/",
          "height": 363
        },
        "id": "FWqUBItUbPAS",
        "outputId": "55348357-20fc-48eb-f449-7f4cbaa333cc"
      },
      "execution_count": null,
      "outputs": [
        {
          "output_type": "execute_result",
          "data": {
            "text/plain": [
              "         A      B    mean(A)    mean(B)      diff        se         T  \\\n",
              "0  control  test1  15.361394  15.860310 -0.498916  0.079023 -6.313576   \n",
              "1  control  test2  15.361394  15.795553 -0.434158  0.079112 -5.487878   \n",
              "2  control  test3  15.361394  15.821018 -0.459623  0.079033 -5.815590   \n",
              "3  control  test4  15.361394  15.749216 -0.387822  0.078891 -4.915910   \n",
              "4    test1  test2  15.860310  15.795553  0.064758  0.078572  0.824181   \n",
              "5    test1  test3  15.860310  15.821018  0.039293  0.078492  0.500594   \n",
              "6    test1  test4  15.860310  15.749216  0.111094  0.078349  1.417936   \n",
              "7    test2  test3  15.795553  15.821018 -0.025465  0.078582 -0.324053   \n",
              "8    test2  test4  15.795553  15.749216  0.046337  0.078440  0.590732   \n",
              "9    test3  test4  15.821018  15.749216  0.071802  0.078360  0.916309   \n",
              "\n",
              "              df          pval    hedges  \n",
              "0  268287.452501  2.724985e-09 -0.024372  \n",
              "1  267748.319001  4.054249e-07 -0.021207  \n",
              "2  267994.548911  6.031582e-08 -0.022462  \n",
              "3  267963.748114  8.750427e-06 -0.018987  \n",
              "4  271443.502633  9.232574e-01  0.003164  \n",
              "5  271734.456279  9.873291e-01  0.001921  \n",
              "6  271757.535051  6.160327e-01  0.005440  \n",
              "7  271133.418367  9.976207e-01 -0.001245  \n",
              "8  271147.380933  9.765077e-01  0.002269  \n",
              "9  271442.210658  8.907493e-01  0.003517  "
            ],
            "text/html": [
              "\n",
              "  <div id=\"df-56aa5dc2-3de8-4334-a9d2-fc923aefbdbc\">\n",
              "    <div class=\"colab-df-container\">\n",
              "      <div>\n",
              "<style scoped>\n",
              "    .dataframe tbody tr th:only-of-type {\n",
              "        vertical-align: middle;\n",
              "    }\n",
              "\n",
              "    .dataframe tbody tr th {\n",
              "        vertical-align: top;\n",
              "    }\n",
              "\n",
              "    .dataframe thead th {\n",
              "        text-align: right;\n",
              "    }\n",
              "</style>\n",
              "<table border=\"1\" class=\"dataframe\">\n",
              "  <thead>\n",
              "    <tr style=\"text-align: right;\">\n",
              "      <th></th>\n",
              "      <th>A</th>\n",
              "      <th>B</th>\n",
              "      <th>mean(A)</th>\n",
              "      <th>mean(B)</th>\n",
              "      <th>diff</th>\n",
              "      <th>se</th>\n",
              "      <th>T</th>\n",
              "      <th>df</th>\n",
              "      <th>pval</th>\n",
              "      <th>hedges</th>\n",
              "    </tr>\n",
              "  </thead>\n",
              "  <tbody>\n",
              "    <tr>\n",
              "      <th>0</th>\n",
              "      <td>control</td>\n",
              "      <td>test1</td>\n",
              "      <td>15.361394</td>\n",
              "      <td>15.860310</td>\n",
              "      <td>-0.498916</td>\n",
              "      <td>0.079023</td>\n",
              "      <td>-6.313576</td>\n",
              "      <td>268287.452501</td>\n",
              "      <td>2.724985e-09</td>\n",
              "      <td>-0.024372</td>\n",
              "    </tr>\n",
              "    <tr>\n",
              "      <th>1</th>\n",
              "      <td>control</td>\n",
              "      <td>test2</td>\n",
              "      <td>15.361394</td>\n",
              "      <td>15.795553</td>\n",
              "      <td>-0.434158</td>\n",
              "      <td>0.079112</td>\n",
              "      <td>-5.487878</td>\n",
              "      <td>267748.319001</td>\n",
              "      <td>4.054249e-07</td>\n",
              "      <td>-0.021207</td>\n",
              "    </tr>\n",
              "    <tr>\n",
              "      <th>2</th>\n",
              "      <td>control</td>\n",
              "      <td>test3</td>\n",
              "      <td>15.361394</td>\n",
              "      <td>15.821018</td>\n",
              "      <td>-0.459623</td>\n",
              "      <td>0.079033</td>\n",
              "      <td>-5.815590</td>\n",
              "      <td>267994.548911</td>\n",
              "      <td>6.031582e-08</td>\n",
              "      <td>-0.022462</td>\n",
              "    </tr>\n",
              "    <tr>\n",
              "      <th>3</th>\n",
              "      <td>control</td>\n",
              "      <td>test4</td>\n",
              "      <td>15.361394</td>\n",
              "      <td>15.749216</td>\n",
              "      <td>-0.387822</td>\n",
              "      <td>0.078891</td>\n",
              "      <td>-4.915910</td>\n",
              "      <td>267963.748114</td>\n",
              "      <td>8.750427e-06</td>\n",
              "      <td>-0.018987</td>\n",
              "    </tr>\n",
              "    <tr>\n",
              "      <th>4</th>\n",
              "      <td>test1</td>\n",
              "      <td>test2</td>\n",
              "      <td>15.860310</td>\n",
              "      <td>15.795553</td>\n",
              "      <td>0.064758</td>\n",
              "      <td>0.078572</td>\n",
              "      <td>0.824181</td>\n",
              "      <td>271443.502633</td>\n",
              "      <td>9.232574e-01</td>\n",
              "      <td>0.003164</td>\n",
              "    </tr>\n",
              "    <tr>\n",
              "      <th>5</th>\n",
              "      <td>test1</td>\n",
              "      <td>test3</td>\n",
              "      <td>15.860310</td>\n",
              "      <td>15.821018</td>\n",
              "      <td>0.039293</td>\n",
              "      <td>0.078492</td>\n",
              "      <td>0.500594</td>\n",
              "      <td>271734.456279</td>\n",
              "      <td>9.873291e-01</td>\n",
              "      <td>0.001921</td>\n",
              "    </tr>\n",
              "    <tr>\n",
              "      <th>6</th>\n",
              "      <td>test1</td>\n",
              "      <td>test4</td>\n",
              "      <td>15.860310</td>\n",
              "      <td>15.749216</td>\n",
              "      <td>0.111094</td>\n",
              "      <td>0.078349</td>\n",
              "      <td>1.417936</td>\n",
              "      <td>271757.535051</td>\n",
              "      <td>6.160327e-01</td>\n",
              "      <td>0.005440</td>\n",
              "    </tr>\n",
              "    <tr>\n",
              "      <th>7</th>\n",
              "      <td>test2</td>\n",
              "      <td>test3</td>\n",
              "      <td>15.795553</td>\n",
              "      <td>15.821018</td>\n",
              "      <td>-0.025465</td>\n",
              "      <td>0.078582</td>\n",
              "      <td>-0.324053</td>\n",
              "      <td>271133.418367</td>\n",
              "      <td>9.976207e-01</td>\n",
              "      <td>-0.001245</td>\n",
              "    </tr>\n",
              "    <tr>\n",
              "      <th>8</th>\n",
              "      <td>test2</td>\n",
              "      <td>test4</td>\n",
              "      <td>15.795553</td>\n",
              "      <td>15.749216</td>\n",
              "      <td>0.046337</td>\n",
              "      <td>0.078440</td>\n",
              "      <td>0.590732</td>\n",
              "      <td>271147.380933</td>\n",
              "      <td>9.765077e-01</td>\n",
              "      <td>0.002269</td>\n",
              "    </tr>\n",
              "    <tr>\n",
              "      <th>9</th>\n",
              "      <td>test3</td>\n",
              "      <td>test4</td>\n",
              "      <td>15.821018</td>\n",
              "      <td>15.749216</td>\n",
              "      <td>0.071802</td>\n",
              "      <td>0.078360</td>\n",
              "      <td>0.916309</td>\n",
              "      <td>271442.210658</td>\n",
              "      <td>8.907493e-01</td>\n",
              "      <td>0.003517</td>\n",
              "    </tr>\n",
              "  </tbody>\n",
              "</table>\n",
              "</div>\n",
              "      <button class=\"colab-df-convert\" onclick=\"convertToInteractive('df-56aa5dc2-3de8-4334-a9d2-fc923aefbdbc')\"\n",
              "              title=\"Convert this dataframe to an interactive table.\"\n",
              "              style=\"display:none;\">\n",
              "        \n",
              "  <svg xmlns=\"http://www.w3.org/2000/svg\" height=\"24px\"viewBox=\"0 0 24 24\"\n",
              "       width=\"24px\">\n",
              "    <path d=\"M0 0h24v24H0V0z\" fill=\"none\"/>\n",
              "    <path d=\"M18.56 5.44l.94 2.06.94-2.06 2.06-.94-2.06-.94-.94-2.06-.94 2.06-2.06.94zm-11 1L8.5 8.5l.94-2.06 2.06-.94-2.06-.94L8.5 2.5l-.94 2.06-2.06.94zm10 10l.94 2.06.94-2.06 2.06-.94-2.06-.94-.94-2.06-.94 2.06-2.06.94z\"/><path d=\"M17.41 7.96l-1.37-1.37c-.4-.4-.92-.59-1.43-.59-.52 0-1.04.2-1.43.59L10.3 9.45l-7.72 7.72c-.78.78-.78 2.05 0 2.83L4 21.41c.39.39.9.59 1.41.59.51 0 1.02-.2 1.41-.59l7.78-7.78 2.81-2.81c.8-.78.8-2.07 0-2.86zM5.41 20L4 18.59l7.72-7.72 1.47 1.35L5.41 20z\"/>\n",
              "  </svg>\n",
              "      </button>\n",
              "      \n",
              "  <style>\n",
              "    .colab-df-container {\n",
              "      display:flex;\n",
              "      flex-wrap:wrap;\n",
              "      gap: 12px;\n",
              "    }\n",
              "\n",
              "    .colab-df-convert {\n",
              "      background-color: #E8F0FE;\n",
              "      border: none;\n",
              "      border-radius: 50%;\n",
              "      cursor: pointer;\n",
              "      display: none;\n",
              "      fill: #1967D2;\n",
              "      height: 32px;\n",
              "      padding: 0 0 0 0;\n",
              "      width: 32px;\n",
              "    }\n",
              "\n",
              "    .colab-df-convert:hover {\n",
              "      background-color: #E2EBFA;\n",
              "      box-shadow: 0px 1px 2px rgba(60, 64, 67, 0.3), 0px 1px 3px 1px rgba(60, 64, 67, 0.15);\n",
              "      fill: #174EA6;\n",
              "    }\n",
              "\n",
              "    [theme=dark] .colab-df-convert {\n",
              "      background-color: #3B4455;\n",
              "      fill: #D2E3FC;\n",
              "    }\n",
              "\n",
              "    [theme=dark] .colab-df-convert:hover {\n",
              "      background-color: #434B5C;\n",
              "      box-shadow: 0px 1px 3px 1px rgba(0, 0, 0, 0.15);\n",
              "      filter: drop-shadow(0px 1px 2px rgba(0, 0, 0, 0.3));\n",
              "      fill: #FFFFFF;\n",
              "    }\n",
              "  </style>\n",
              "\n",
              "      <script>\n",
              "        const buttonEl =\n",
              "          document.querySelector('#df-56aa5dc2-3de8-4334-a9d2-fc923aefbdbc button.colab-df-convert');\n",
              "        buttonEl.style.display =\n",
              "          google.colab.kernel.accessAllowed ? 'block' : 'none';\n",
              "\n",
              "        async function convertToInteractive(key) {\n",
              "          const element = document.querySelector('#df-56aa5dc2-3de8-4334-a9d2-fc923aefbdbc');\n",
              "          const dataTable =\n",
              "            await google.colab.kernel.invokeFunction('convertToInteractive',\n",
              "                                                     [key], {});\n",
              "          if (!dataTable) return;\n",
              "\n",
              "          const docLinkHtml = 'Like what you see? Visit the ' +\n",
              "            '<a target=\"_blank\" href=https://colab.research.google.com/notebooks/data_table.ipynb>data table notebook</a>'\n",
              "            + ' to learn more about interactive tables.';\n",
              "          element.innerHTML = '';\n",
              "          dataTable['output_type'] = 'display_data';\n",
              "          await google.colab.output.renderOutput(dataTable, element);\n",
              "          const docLink = document.createElement('div');\n",
              "          docLink.innerHTML = docLinkHtml;\n",
              "          element.appendChild(docLink);\n",
              "        }\n",
              "      </script>\n",
              "    </div>\n",
              "  </div>\n",
              "  "
            ]
          },
          "metadata": {},
          "execution_count": 198
        }
      ]
    },
    {
      "cell_type": "markdown",
      "source": [
        "Между контрольной и тестовыми группами есть статистически значимая разница, все тестовые варианты, согласно таблице выше, лучше контрольной. При этом нет статистически значимой разницы между тестовыми вариантами.\n",
        "\n",
        "**Таким образом, нулевая гипотеза о равенстве средних между контрольной группой и тестовыми отклоняется.**\n",
        "\n",
        "В данном случае средняя выручка на пользователя выше в тестовых группах, чем в контрольной."
      ],
      "metadata": {
        "id": "Y-yTDijib4CD"
      }
    },
    {
      "cell_type": "markdown",
      "source": [
        "## AOV"
      ],
      "metadata": {
        "id": "cl9ck-r1fggh"
      }
    },
    {
      "cell_type": "code",
      "source": [
        "# возьмем данные, где цена выше 0\n",
        "final_table_not_zero = final_table.query('price > 0')"
      ],
      "metadata": {
        "id": "vpUHvdRyfp2R"
      },
      "execution_count": null,
      "outputs": []
    },
    {
      "cell_type": "code",
      "source": [
        "# посмотрим на распределения сверху\n",
        "sns.boxplot(data=final_table_not_zero, x='price', y='tag')"
      ],
      "metadata": {
        "colab": {
          "base_uri": "https://localhost:8080/",
          "height": 405
        },
        "id": "_-IU1xgxf4cw",
        "outputId": "7997d79f-81f9-494f-ec9c-fd6051b6811d"
      },
      "execution_count": null,
      "outputs": [
        {
          "output_type": "execute_result",
          "data": {
            "text/plain": [
              "<Axes: xlabel='price', ylabel='tag'>"
            ]
          },
          "metadata": {},
          "execution_count": 200
        },
        {
          "output_type": "display_data",
          "data": {
            "text/plain": [
              "<Figure size 800x400 with 1 Axes>"
            ],
            "image/png": "[encoded data removed]"
          },
          "metadata": {}
        }
      ]
    },
    {
      "cell_type": "code",
      "source": [
        "sns.violinplot(data=final_table_not_zero, x='price', y='tag')"
      ],
      "metadata": {
        "colab": {
          "base_uri": "https://localhost:8080/",
          "height": 405
        },
        "id": "44XDdVb5glQZ",
        "outputId": "bf5e6934-76e2-4537-e661-10fd29ae99d2"
      },
      "execution_count": null,
      "outputs": [
        {
          "output_type": "execute_result",
          "data": {
            "text/plain": [
              "<Axes: xlabel='price', ylabel='tag'>"
            ]
          },
          "metadata": {},
          "execution_count": 201
        },
        {
          "output_type": "display_data",
          "data": {
            "text/plain": [
              "<Figure size 800x400 with 1 Axes>"
            ],
            "image/png": "[encoded data removed]"
          },
          "metadata": {}
        }
      ]
    },
    {
      "cell_type": "markdown",
      "source": [
        "Можно заметить, что распределения имеют 3 своеобразных ценовых кластера, что равно числу видов контента для покупки. Наиболее часто покупают самый дешевый вид контента, вторым по популярности является самый дорогой.\n",
        "\n",
        "Ради интереса посмотрим, какой из них дешевый и дорогой."
      ],
      "metadata": {
        "id": "Mkd0vUlZgrkh"
      }
    },
    {
      "cell_type": "code",
      "source": [
        "sns.histplot(final_table_not_zero.query('tag == \"control\"')[['price', 'consumption_mode']], hue='consumption_mode', x='price', bins=24)"
      ],
      "metadata": {
        "colab": {
          "base_uri": "https://localhost:8080/",
          "height": 405
        },
        "id": "cpKdQXCWkUvR",
        "outputId": "7cdd4f71-2db6-4502-eba7-e3b788dd3f97"
      },
      "execution_count": null,
      "outputs": [
        {
          "output_type": "execute_result",
          "data": {
            "text/plain": [
              "<Axes: xlabel='price', ylabel='Count'>"
            ]
          },
          "metadata": {},
          "execution_count": 202
        },
        {
          "output_type": "display_data",
          "data": {
            "text/plain": [
              "<Figure size 800x400 with 1 Axes>"
            ],
            "image/png": "[encoded data removed]"
          },
          "metadata": {}
        }
      ]
    },
    {
      "cell_type": "code",
      "source": [
        "sns.boxplot(final_table_not_zero.query('tag == \"control\"')[['price', 'consumption_mode']], y='consumption_mode', x='price')"
      ],
      "metadata": {
        "colab": {
          "base_uri": "https://localhost:8080/",
          "height": 405
        },
        "id": "McFoWahmkujg",
        "outputId": "bf78828b-038e-4085-e50a-23c4c344ba43"
      },
      "execution_count": null,
      "outputs": [
        {
          "output_type": "execute_result",
          "data": {
            "text/plain": [
              "<Axes: xlabel='price', ylabel='consumption_mode'>"
            ]
          },
          "metadata": {},
          "execution_count": 203
        },
        {
          "output_type": "display_data",
          "data": {
            "text/plain": [
              "<Figure size 800x400 with 1 Axes>"
            ],
            "image/png": "[encoded data removed]"
          },
          "metadata": {}
        }
      ]
    },
    {
      "cell_type": "markdown",
      "source": [
        "Самый дешевый, но наиболее часто покупаемый - аренда, второй - покупка навсегда, третий - подписка)."
      ],
      "metadata": {
        "id": "mlnwsN9mlqZh"
      }
    },
    {
      "cell_type": "markdown",
      "source": [
        "Для сравнения средних чеков на пользователя также подходит однофакторный дисперсионный анализ, как и в предыдущем пункте. Проверим выборки на гомогенность дисперсий.\n",
        "\n",
        "Выдивгаемые гипотезы:\n",
        "\n",
        "**H0: во всех группах дисперсии равны**\n",
        "\n",
        "**H1: дисперсии в группах не равны**\n",
        "\n",
        "**альфа=0.05**"
      ],
      "metadata": {
        "id": "YeRgzNpemWy_"
      }
    },
    {
      "cell_type": "code",
      "source": [
        "test1_ = np.array(final_table_not_zero.query('tag == \"test1\"')['price'])\n",
        "test2_ = np.array(final_table_not_zero.query('tag == \"test2\"')['price'])\n",
        "test3_ = np.array(final_table_not_zero.query('tag == \"test3\"')['price'])\n",
        "test4_ = np.array(final_table_not_zero.query('tag == \"test4\"')['price'])\n",
        "control_ = np.array(final_table_not_zero.query('tag == \"control\"')['price'])\n",
        "stat, p = levene(test1_, test2_, test3_, test4_, control_)\n",
        "p"
      ],
      "metadata": {
        "colab": {
          "base_uri": "https://localhost:8080/"
        },
        "outputId": "dc78cfba-6266-4a20-9db2-0bd73a465052",
        "id": "sHzdZGW7m8kR"
      },
      "execution_count": null,
      "outputs": [
        {
          "output_type": "execute_result",
          "data": {
            "text/plain": [
              "1.664955946418671e-13"
            ]
          },
          "metadata": {},
          "execution_count": 204
        }
      ]
    },
    {
      "cell_type": "markdown",
      "source": [
        "Снова p-value меньше альфа, а значит H0 отвергается, поэтому воспользуемся такими же критерями, что и при сравнении ARPU:"
      ],
      "metadata": {
        "id": "9zOfaTtMnF6P"
      }
    },
    {
      "cell_type": "code",
      "source": [
        "pg.welch_anova(data=final_table_not_zero,\n",
        "               dv='price',\n",
        "               between='tag')"
      ],
      "metadata": {
        "colab": {
          "base_uri": "https://localhost:8080/",
          "height": 81
        },
        "id": "TNE6nWkWn2ju",
        "outputId": "4f7e2957-5471-4865-8575-c21c11521d96"
      },
      "execution_count": null,
      "outputs": [
        {
          "output_type": "execute_result",
          "data": {
            "text/plain": [
              "  Source  ddof1         ddof2         F         p-unc       np2\n",
              "0    tag      4  138228.39691  9.712387  7.501606e-08  0.000142"
            ],
            "text/html": [
              "\n",
              "  <div id=\"df-ca143a58-d536-4d88-8daa-157520061ce1\">\n",
              "    <div class=\"colab-df-container\">\n",
              "      <div>\n",
              "<style scoped>\n",
              "    .dataframe tbody tr th:only-of-type {\n",
              "        vertical-align: middle;\n",
              "    }\n",
              "\n",
              "    .dataframe tbody tr th {\n",
              "        vertical-align: top;\n",
              "    }\n",
              "\n",
              "    .dataframe thead th {\n",
              "        text-align: right;\n",
              "    }\n",
              "</style>\n",
              "<table border=\"1\" class=\"dataframe\">\n",
              "  <thead>\n",
              "    <tr style=\"text-align: right;\">\n",
              "      <th></th>\n",
              "      <th>Source</th>\n",
              "      <th>ddof1</th>\n",
              "      <th>ddof2</th>\n",
              "      <th>F</th>\n",
              "      <th>p-unc</th>\n",
              "      <th>np2</th>\n",
              "    </tr>\n",
              "  </thead>\n",
              "  <tbody>\n",
              "    <tr>\n",
              "      <th>0</th>\n",
              "      <td>tag</td>\n",
              "      <td>4</td>\n",
              "      <td>138228.39691</td>\n",
              "      <td>9.712387</td>\n",
              "      <td>7.501606e-08</td>\n",
              "      <td>0.000142</td>\n",
              "    </tr>\n",
              "  </tbody>\n",
              "</table>\n",
              "</div>\n",
              "      <button class=\"colab-df-convert\" onclick=\"convertToInteractive('df-ca143a58-d536-4d88-8daa-157520061ce1')\"\n",
              "              title=\"Convert this dataframe to an interactive table.\"\n",
              "              style=\"display:none;\">\n",
              "        \n",
              "  <svg xmlns=\"http://www.w3.org/2000/svg\" height=\"24px\"viewBox=\"0 0 24 24\"\n",
              "       width=\"24px\">\n",
              "    <path d=\"M0 0h24v24H0V0z\" fill=\"none\"/>\n",
              "    <path d=\"M18.56 5.44l.94 2.06.94-2.06 2.06-.94-2.06-.94-.94-2.06-.94 2.06-2.06.94zm-11 1L8.5 8.5l.94-2.06 2.06-.94-2.06-.94L8.5 2.5l-.94 2.06-2.06.94zm10 10l.94 2.06.94-2.06 2.06-.94-2.06-.94-.94-2.06-.94 2.06-2.06.94z\"/><path d=\"M17.41 7.96l-1.37-1.37c-.4-.4-.92-.59-1.43-.59-.52 0-1.04.2-1.43.59L10.3 9.45l-7.72 7.72c-.78.78-.78 2.05 0 2.83L4 21.41c.39.39.9.59 1.41.59.51 0 1.02-.2 1.41-.59l7.78-7.78 2.81-2.81c.8-.78.8-2.07 0-2.86zM5.41 20L4 18.59l7.72-7.72 1.47 1.35L5.41 20z\"/>\n",
              "  </svg>\n",
              "      </button>\n",
              "      \n",
              "  <style>\n",
              "    .colab-df-container {\n",
              "      display:flex;\n",
              "      flex-wrap:wrap;\n",
              "      gap: 12px;\n",
              "    }\n",
              "\n",
              "    .colab-df-convert {\n",
              "      background-color: #E8F0FE;\n",
              "      border: none;\n",
              "      border-radius: 50%;\n",
              "      cursor: pointer;\n",
              "      display: none;\n",
              "      fill: #1967D2;\n",
              "      height: 32px;\n",
              "      padding: 0 0 0 0;\n",
              "      width: 32px;\n",
              "    }\n",
              "\n",
              "    .colab-df-convert:hover {\n",
              "      background-color: #E2EBFA;\n",
              "      box-shadow: 0px 1px 2px rgba(60, 64, 67, 0.3), 0px 1px 3px 1px rgba(60, 64, 67, 0.15);\n",
              "      fill: #174EA6;\n",
              "    }\n",
              "\n",
              "    [theme=dark] .colab-df-convert {\n",
              "      background-color: #3B4455;\n",
              "      fill: #D2E3FC;\n",
              "    }\n",
              "\n",
              "    [theme=dark] .colab-df-convert:hover {\n",
              "      background-color: #434B5C;\n",
              "      box-shadow: 0px 1px 3px 1px rgba(0, 0, 0, 0.15);\n",
              "      filter: drop-shadow(0px 1px 2px rgba(0, 0, 0, 0.3));\n",
              "      fill: #FFFFFF;\n",
              "    }\n",
              "  </style>\n",
              "\n",
              "      <script>\n",
              "        const buttonEl =\n",
              "          document.querySelector('#df-ca143a58-d536-4d88-8daa-157520061ce1 button.colab-df-convert');\n",
              "        buttonEl.style.display =\n",
              "          google.colab.kernel.accessAllowed ? 'block' : 'none';\n",
              "\n",
              "        async function convertToInteractive(key) {\n",
              "          const element = document.querySelector('#df-ca143a58-d536-4d88-8daa-157520061ce1');\n",
              "          const dataTable =\n",
              "            await google.colab.kernel.invokeFunction('convertToInteractive',\n",
              "                                                     [key], {});\n",
              "          if (!dataTable) return;\n",
              "\n",
              "          const docLinkHtml = 'Like what you see? Visit the ' +\n",
              "            '<a target=\"_blank\" href=https://colab.research.google.com/notebooks/data_table.ipynb>data table notebook</a>'\n",
              "            + ' to learn more about interactive tables.';\n",
              "          element.innerHTML = '';\n",
              "          dataTable['output_type'] = 'display_data';\n",
              "          await google.colab.output.renderOutput(dataTable, element);\n",
              "          const docLink = document.createElement('div');\n",
              "          docLink.innerHTML = docLinkHtml;\n",
              "          element.appendChild(docLink);\n",
              "        }\n",
              "      </script>\n",
              "    </div>\n",
              "  </div>\n",
              "  "
            ]
          },
          "metadata": {},
          "execution_count": 205
        }
      ]
    },
    {
      "cell_type": "markdown",
      "source": [
        "Также есть стат значимые различия между группами. Воспользуемся парным критерием Геймса-Хоувелла.\n",
        "\n",
        "Выдвигаемые гипотезы:\n",
        "\n",
        "**H0: средние двух сравниваемых групп равны**\n",
        "\n",
        "**H1: средние двух сравниваемых групп не равны**\n",
        "\n",
        "**альфа = 0.005**"
      ],
      "metadata": {
        "id": "DALYCZ9cn_1m"
      }
    },
    {
      "cell_type": "code",
      "source": [
        "pg.pairwise_gameshowell(data=final_table_not_zero, \n",
        "                        dv='price', \n",
        "                        between='tag')"
      ],
      "metadata": {
        "colab": {
          "base_uri": "https://localhost:8080/",
          "height": 363
        },
        "outputId": "a2f70e8d-ebae-47e5-ae3f-27555d0412f3",
        "id": "Z0qn5V4Jpddn"
      },
      "execution_count": null,
      "outputs": [
        {
          "output_type": "execute_result",
          "data": {
            "text/plain": [
              "         A      B    mean(A)    mean(B)      diff        se         T  \\\n",
              "0  control  test1  38.618944  38.280936  0.338008  0.075283  4.489840   \n",
              "1  control  test2  38.618944  38.399636  0.219308  0.075227  2.915305   \n",
              "2  control  test3  38.618944  38.322629  0.296315  0.075125  3.944298   \n",
              "3  control  test4  38.618944  38.174531  0.444413  0.075103  5.917373   \n",
              "4    test1  test2  38.280936  38.399636 -0.118700  0.073585 -1.613100   \n",
              "5    test1  test3  38.280936  38.322629 -0.041693  0.073481 -0.567398   \n",
              "6    test1  test4  38.280936  38.174531  0.106404  0.073459  1.448489   \n",
              "7    test2  test3  38.399636  38.322629  0.077007  0.073424  1.048806   \n",
              "8    test2  test4  38.399636  38.174531  0.225105  0.073401  3.066775   \n",
              "9    test3  test4  38.322629  38.174531  0.148098  0.073297  2.020514   \n",
              "\n",
              "              df          pval    hedges  \n",
              "0  108403.807233  6.982864e-05  0.027217  \n",
              "1  107825.560672  2.925711e-02  0.017725  \n",
              "2  108051.561365  7.625033e-04  0.023949  \n",
              "3  108017.656082  3.266669e-08  0.035934  \n",
              "4  112059.993361  4.888860e-01 -0.009637  \n",
              "5  112381.758946  9.797577e-01 -0.003385  \n",
              "6  112353.624983  5.961361e-01  0.008642  \n",
              "7  111728.374748  8.324988e-01  0.006275  \n",
              "8  111699.899826  1.841669e-02  0.018352  \n",
              "9  112023.985286  2.560148e-01  0.012073  "
            ],
            "text/html": [
              "\n",
              "  <div id=\"df-c1a78e16-db28-4b16-aa72-f27c466f1940\">\n",
              "    <div class=\"colab-df-container\">\n",
              "      <div>\n",
              "<style scoped>\n",
              "    .dataframe tbody tr th:only-of-type {\n",
              "        vertical-align: middle;\n",
              "    }\n",
              "\n",
              "    .dataframe tbody tr th {\n",
              "        vertical-align: top;\n",
              "    }\n",
              "\n",
              "    .dataframe thead th {\n",
              "        text-align: right;\n",
              "    }\n",
              "</style>\n",
              "<table border=\"1\" class=\"dataframe\">\n",
              "  <thead>\n",
              "    <tr style=\"text-align: right;\">\n",
              "      <th></th>\n",
              "      <th>A</th>\n",
              "      <th>B</th>\n",
              "      <th>mean(A)</th>\n",
              "      <th>mean(B)</th>\n",
              "      <th>diff</th>\n",
              "      <th>se</th>\n",
              "      <th>T</th>\n",
              "      <th>df</th>\n",
              "      <th>pval</th>\n",
              "      <th>hedges</th>\n",
              "    </tr>\n",
              "  </thead>\n",
              "  <tbody>\n",
              "    <tr>\n",
              "      <th>0</th>\n",
              "      <td>control</td>\n",
              "      <td>test1</td>\n",
              "      <td>38.618944</td>\n",
              "      <td>38.280936</td>\n",
              "      <td>0.338008</td>\n",
              "      <td>0.075283</td>\n",
              "      <td>4.489840</td>\n",
              "      <td>108403.807233</td>\n",
              "      <td>6.982864e-05</td>\n",
              "      <td>0.027217</td>\n",
              "    </tr>\n",
              "    <tr>\n",
              "      <th>1</th>\n",
              "      <td>control</td>\n",
              "      <td>test2</td>\n",
              "      <td>38.618944</td>\n",
              "      <td>38.399636</td>\n",
              "      <td>0.219308</td>\n",
              "      <td>0.075227</td>\n",
              "      <td>2.915305</td>\n",
              "      <td>107825.560672</td>\n",
              "      <td>2.925711e-02</td>\n",
              "      <td>0.017725</td>\n",
              "    </tr>\n",
              "    <tr>\n",
              "      <th>2</th>\n",
              "      <td>control</td>\n",
              "      <td>test3</td>\n",
              "      <td>38.618944</td>\n",
              "      <td>38.322629</td>\n",
              "      <td>0.296315</td>\n",
              "      <td>0.075125</td>\n",
              "      <td>3.944298</td>\n",
              "      <td>108051.561365</td>\n",
              "      <td>7.625033e-04</td>\n",
              "      <td>0.023949</td>\n",
              "    </tr>\n",
              "    <tr>\n",
              "      <th>3</th>\n",
              "      <td>control</td>\n",
              "      <td>test4</td>\n",
              "      <td>38.618944</td>\n",
              "      <td>38.174531</td>\n",
              "      <td>0.444413</td>\n",
              "      <td>0.075103</td>\n",
              "      <td>5.917373</td>\n",
              "      <td>108017.656082</td>\n",
              "      <td>3.266669e-08</td>\n",
              "      <td>0.035934</td>\n",
              "    </tr>\n",
              "    <tr>\n",
              "      <th>4</th>\n",
              "      <td>test1</td>\n",
              "      <td>test2</td>\n",
              "      <td>38.280936</td>\n",
              "      <td>38.399636</td>\n",
              "      <td>-0.118700</td>\n",
              "      <td>0.073585</td>\n",
              "      <td>-1.613100</td>\n",
              "      <td>112059.993361</td>\n",
              "      <td>4.888860e-01</td>\n",
              "      <td>-0.009637</td>\n",
              "    </tr>\n",
              "    <tr>\n",
              "      <th>5</th>\n",
              "      <td>test1</td>\n",
              "      <td>test3</td>\n",
              "      <td>38.280936</td>\n",
              "      <td>38.322629</td>\n",
              "      <td>-0.041693</td>\n",
              "      <td>0.073481</td>\n",
              "      <td>-0.567398</td>\n",
              "      <td>112381.758946</td>\n",
              "      <td>9.797577e-01</td>\n",
              "      <td>-0.003385</td>\n",
              "    </tr>\n",
              "    <tr>\n",
              "      <th>6</th>\n",
              "      <td>test1</td>\n",
              "      <td>test4</td>\n",
              "      <td>38.280936</td>\n",
              "      <td>38.174531</td>\n",
              "      <td>0.106404</td>\n",
              "      <td>0.073459</td>\n",
              "      <td>1.448489</td>\n",
              "      <td>112353.624983</td>\n",
              "      <td>5.961361e-01</td>\n",
              "      <td>0.008642</td>\n",
              "    </tr>\n",
              "    <tr>\n",
              "      <th>7</th>\n",
              "      <td>test2</td>\n",
              "      <td>test3</td>\n",
              "      <td>38.399636</td>\n",
              "      <td>38.322629</td>\n",
              "      <td>0.077007</td>\n",
              "      <td>0.073424</td>\n",
              "      <td>1.048806</td>\n",
              "      <td>111728.374748</td>\n",
              "      <td>8.324988e-01</td>\n",
              "      <td>0.006275</td>\n",
              "    </tr>\n",
              "    <tr>\n",
              "      <th>8</th>\n",
              "      <td>test2</td>\n",
              "      <td>test4</td>\n",
              "      <td>38.399636</td>\n",
              "      <td>38.174531</td>\n",
              "      <td>0.225105</td>\n",
              "      <td>0.073401</td>\n",
              "      <td>3.066775</td>\n",
              "      <td>111699.899826</td>\n",
              "      <td>1.841669e-02</td>\n",
              "      <td>0.018352</td>\n",
              "    </tr>\n",
              "    <tr>\n",
              "      <th>9</th>\n",
              "      <td>test3</td>\n",
              "      <td>test4</td>\n",
              "      <td>38.322629</td>\n",
              "      <td>38.174531</td>\n",
              "      <td>0.148098</td>\n",
              "      <td>0.073297</td>\n",
              "      <td>2.020514</td>\n",
              "      <td>112023.985286</td>\n",
              "      <td>2.560148e-01</td>\n",
              "      <td>0.012073</td>\n",
              "    </tr>\n",
              "  </tbody>\n",
              "</table>\n",
              "</div>\n",
              "      <button class=\"colab-df-convert\" onclick=\"convertToInteractive('df-c1a78e16-db28-4b16-aa72-f27c466f1940')\"\n",
              "              title=\"Convert this dataframe to an interactive table.\"\n",
              "              style=\"display:none;\">\n",
              "        \n",
              "  <svg xmlns=\"http://www.w3.org/2000/svg\" height=\"24px\"viewBox=\"0 0 24 24\"\n",
              "       width=\"24px\">\n",
              "    <path d=\"M0 0h24v24H0V0z\" fill=\"none\"/>\n",
              "    <path d=\"M18.56 5.44l.94 2.06.94-2.06 2.06-.94-2.06-.94-.94-2.06-.94 2.06-2.06.94zm-11 1L8.5 8.5l.94-2.06 2.06-.94-2.06-.94L8.5 2.5l-.94 2.06-2.06.94zm10 10l.94 2.06.94-2.06 2.06-.94-2.06-.94-.94-2.06-.94 2.06-2.06.94z\"/><path d=\"M17.41 7.96l-1.37-1.37c-.4-.4-.92-.59-1.43-.59-.52 0-1.04.2-1.43.59L10.3 9.45l-7.72 7.72c-.78.78-.78 2.05 0 2.83L4 21.41c.39.39.9.59 1.41.59.51 0 1.02-.2 1.41-.59l7.78-7.78 2.81-2.81c.8-.78.8-2.07 0-2.86zM5.41 20L4 18.59l7.72-7.72 1.47 1.35L5.41 20z\"/>\n",
              "  </svg>\n",
              "      </button>\n",
              "      \n",
              "  <style>\n",
              "    .colab-df-container {\n",
              "      display:flex;\n",
              "      flex-wrap:wrap;\n",
              "      gap: 12px;\n",
              "    }\n",
              "\n",
              "    .colab-df-convert {\n",
              "      background-color: #E8F0FE;\n",
              "      border: none;\n",
              "      border-radius: 50%;\n",
              "      cursor: pointer;\n",
              "      display: none;\n",
              "      fill: #1967D2;\n",
              "      height: 32px;\n",
              "      padding: 0 0 0 0;\n",
              "      width: 32px;\n",
              "    }\n",
              "\n",
              "    .colab-df-convert:hover {\n",
              "      background-color: #E2EBFA;\n",
              "      box-shadow: 0px 1px 2px rgba(60, 64, 67, 0.3), 0px 1px 3px 1px rgba(60, 64, 67, 0.15);\n",
              "      fill: #174EA6;\n",
              "    }\n",
              "\n",
              "    [theme=dark] .colab-df-convert {\n",
              "      background-color: #3B4455;\n",
              "      fill: #D2E3FC;\n",
              "    }\n",
              "\n",
              "    [theme=dark] .colab-df-convert:hover {\n",
              "      background-color: #434B5C;\n",
              "      box-shadow: 0px 1px 3px 1px rgba(0, 0, 0, 0.15);\n",
              "      filter: drop-shadow(0px 1px 2px rgba(0, 0, 0, 0.3));\n",
              "      fill: #FFFFFF;\n",
              "    }\n",
              "  </style>\n",
              "\n",
              "      <script>\n",
              "        const buttonEl =\n",
              "          document.querySelector('#df-c1a78e16-db28-4b16-aa72-f27c466f1940 button.colab-df-convert');\n",
              "        buttonEl.style.display =\n",
              "          google.colab.kernel.accessAllowed ? 'block' : 'none';\n",
              "\n",
              "        async function convertToInteractive(key) {\n",
              "          const element = document.querySelector('#df-c1a78e16-db28-4b16-aa72-f27c466f1940');\n",
              "          const dataTable =\n",
              "            await google.colab.kernel.invokeFunction('convertToInteractive',\n",
              "                                                     [key], {});\n",
              "          if (!dataTable) return;\n",
              "\n",
              "          const docLinkHtml = 'Like what you see? Visit the ' +\n",
              "            '<a target=\"_blank\" href=https://colab.research.google.com/notebooks/data_table.ipynb>data table notebook</a>'\n",
              "            + ' to learn more about interactive tables.';\n",
              "          element.innerHTML = '';\n",
              "          dataTable['output_type'] = 'display_data';\n",
              "          await google.colab.output.renderOutput(dataTable, element);\n",
              "          const docLink = document.createElement('div');\n",
              "          docLink.innerHTML = docLinkHtml;\n",
              "          element.appendChild(docLink);\n",
              "        }\n",
              "      </script>\n",
              "    </div>\n",
              "  </div>\n",
              "  "
            ]
          },
          "metadata": {},
          "execution_count": 206
        }
      ]
    },
    {
      "cell_type": "markdown",
      "source": [
        "Есть статистически значимые различия между средними:\n",
        "- контрольной группы и test1\n",
        "- контрольной группой и test3\n",
        "- контрольной группой и test4\n",
        "\n",
        "В этих случаях мы отклоняем нулевую гипотезу о разности средних групп. Во всех остальных сравнения H0 отклонить нет оснований.\n",
        "\n",
        "При чем разница получилась не в пользу тестовых групп. Почему так может произойти? Возможно, покупать стали больше, но покупки недорогие. Проверим CR."
      ],
      "metadata": {
        "id": "9oFKqu_lpe03"
      }
    },
    {
      "cell_type": "markdown",
      "source": [
        "## Конверсия в покупку\n",
        "\n",
        "В данном случае будем учитывать только факт покупки пользователем - так узнаем, какой % пользоваталей делал покупки.\n",
        "\n",
        "Будем рассчитывать по следующей формуле: \n",
        "\n",
        "`число платящих пользоваталей / число пользователей`\n",
        "\n",
        "Для нахождения значений достаточно взять уникальное число пользоваталей из таблиц, где считали AOV и ARPU.\n"
      ],
      "metadata": {
        "id": "TV7fb2EJudTV"
      }
    },
    {
      "cell_type": "code",
      "source": [
        "all_users = final_table.groupby('tag')[['user_uid']] \\\n",
        "                    .agg('nunique') \\\n",
        "                    .reset_index() \\\n",
        "                    .rename(columns={'user_uid': 'all_users'})"
      ],
      "metadata": {
        "id": "G3H2nD3Ws5VH"
      },
      "execution_count": null,
      "outputs": []
    },
    {
      "cell_type": "code",
      "source": [
        "payment_users = final_table_not_zero.groupby('tag')[['user_uid']] \\\n",
        "                    .agg('nunique') \\\n",
        "                    .reset_index() \\\n",
        "                    .rename(columns={'user_uid': 'payment_users'})"
      ],
      "metadata": {
        "id": "PYuM_5Q_tIDm"
      },
      "execution_count": null,
      "outputs": []
    },
    {
      "cell_type": "code",
      "source": [
        "cr = payment_users.merge(all_users, on='tag') # по умолчанию инер джойн"
      ],
      "metadata": {
        "id": "qT3OJC9-xoyS"
      },
      "execution_count": null,
      "outputs": []
    },
    {
      "cell_type": "code",
      "source": [
        "cr"
      ],
      "metadata": {
        "colab": {
          "base_uri": "https://localhost:8080/",
          "height": 206
        },
        "id": "6-fxlhFmxo9Y",
        "outputId": "be054a67-2719-4a68-d5c6-79defe9005a1"
      },
      "execution_count": null,
      "outputs": [
        {
          "output_type": "execute_result",
          "data": {
            "text/plain": [
              "       tag  payment_users  all_users\n",
              "0  control          29872     109643\n",
              "1    test1          31295     110963\n",
              "2    test2          30863     110582\n",
              "3    test3          30949     110634\n",
              "4    test4          30979     110716"
            ],
            "text/html": [
              "\n",
              "  <div id=\"df-7535a592-7945-4954-9d97-6a0c472338c3\">\n",
              "    <div class=\"colab-df-container\">\n",
              "      <div>\n",
              "<style scoped>\n",
              "    .dataframe tbody tr th:only-of-type {\n",
              "        vertical-align: middle;\n",
              "    }\n",
              "\n",
              "    .dataframe tbody tr th {\n",
              "        vertical-align: top;\n",
              "    }\n",
              "\n",
              "    .dataframe thead th {\n",
              "        text-align: right;\n",
              "    }\n",
              "</style>\n",
              "<table border=\"1\" class=\"dataframe\">\n",
              "  <thead>\n",
              "    <tr style=\"text-align: right;\">\n",
              "      <th></th>\n",
              "      <th>tag</th>\n",
              "      <th>payment_users</th>\n",
              "      <th>all_users</th>\n",
              "    </tr>\n",
              "  </thead>\n",
              "  <tbody>\n",
              "    <tr>\n",
              "      <th>0</th>\n",
              "      <td>control</td>\n",
              "      <td>29872</td>\n",
              "      <td>109643</td>\n",
              "    </tr>\n",
              "    <tr>\n",
              "      <th>1</th>\n",
              "      <td>test1</td>\n",
              "      <td>31295</td>\n",
              "      <td>110963</td>\n",
              "    </tr>\n",
              "    <tr>\n",
              "      <th>2</th>\n",
              "      <td>test2</td>\n",
              "      <td>30863</td>\n",
              "      <td>110582</td>\n",
              "    </tr>\n",
              "    <tr>\n",
              "      <th>3</th>\n",
              "      <td>test3</td>\n",
              "      <td>30949</td>\n",
              "      <td>110634</td>\n",
              "    </tr>\n",
              "    <tr>\n",
              "      <th>4</th>\n",
              "      <td>test4</td>\n",
              "      <td>30979</td>\n",
              "      <td>110716</td>\n",
              "    </tr>\n",
              "  </tbody>\n",
              "</table>\n",
              "</div>\n",
              "      <button class=\"colab-df-convert\" onclick=\"convertToInteractive('df-7535a592-7945-4954-9d97-6a0c472338c3')\"\n",
              "              title=\"Convert this dataframe to an interactive table.\"\n",
              "              style=\"display:none;\">\n",
              "        \n",
              "  <svg xmlns=\"http://www.w3.org/2000/svg\" height=\"24px\"viewBox=\"0 0 24 24\"\n",
              "       width=\"24px\">\n",
              "    <path d=\"M0 0h24v24H0V0z\" fill=\"none\"/>\n",
              "    <path d=\"M18.56 5.44l.94 2.06.94-2.06 2.06-.94-2.06-.94-.94-2.06-.94 2.06-2.06.94zm-11 1L8.5 8.5l.94-2.06 2.06-.94-2.06-.94L8.5 2.5l-.94 2.06-2.06.94zm10 10l.94 2.06.94-2.06 2.06-.94-2.06-.94-.94-2.06-.94 2.06-2.06.94z\"/><path d=\"M17.41 7.96l-1.37-1.37c-.4-.4-.92-.59-1.43-.59-.52 0-1.04.2-1.43.59L10.3 9.45l-7.72 7.72c-.78.78-.78 2.05 0 2.83L4 21.41c.39.39.9.59 1.41.59.51 0 1.02-.2 1.41-.59l7.78-7.78 2.81-2.81c.8-.78.8-2.07 0-2.86zM5.41 20L4 18.59l7.72-7.72 1.47 1.35L5.41 20z\"/>\n",
              "  </svg>\n",
              "      </button>\n",
              "      \n",
              "  <style>\n",
              "    .colab-df-container {\n",
              "      display:flex;\n",
              "      flex-wrap:wrap;\n",
              "      gap: 12px;\n",
              "    }\n",
              "\n",
              "    .colab-df-convert {\n",
              "      background-color: #E8F0FE;\n",
              "      border: none;\n",
              "      border-radius: 50%;\n",
              "      cursor: pointer;\n",
              "      display: none;\n",
              "      fill: #1967D2;\n",
              "      height: 32px;\n",
              "      padding: 0 0 0 0;\n",
              "      width: 32px;\n",
              "    }\n",
              "\n",
              "    .colab-df-convert:hover {\n",
              "      background-color: #E2EBFA;\n",
              "      box-shadow: 0px 1px 2px rgba(60, 64, 67, 0.3), 0px 1px 3px 1px rgba(60, 64, 67, 0.15);\n",
              "      fill: #174EA6;\n",
              "    }\n",
              "\n",
              "    [theme=dark] .colab-df-convert {\n",
              "      background-color: #3B4455;\n",
              "      fill: #D2E3FC;\n",
              "    }\n",
              "\n",
              "    [theme=dark] .colab-df-convert:hover {\n",
              "      background-color: #434B5C;\n",
              "      box-shadow: 0px 1px 3px 1px rgba(0, 0, 0, 0.15);\n",
              "      filter: drop-shadow(0px 1px 2px rgba(0, 0, 0, 0.3));\n",
              "      fill: #FFFFFF;\n",
              "    }\n",
              "  </style>\n",
              "\n",
              "      <script>\n",
              "        const buttonEl =\n",
              "          document.querySelector('#df-7535a592-7945-4954-9d97-6a0c472338c3 button.colab-df-convert');\n",
              "        buttonEl.style.display =\n",
              "          google.colab.kernel.accessAllowed ? 'block' : 'none';\n",
              "\n",
              "        async function convertToInteractive(key) {\n",
              "          const element = document.querySelector('#df-7535a592-7945-4954-9d97-6a0c472338c3');\n",
              "          const dataTable =\n",
              "            await google.colab.kernel.invokeFunction('convertToInteractive',\n",
              "                                                     [key], {});\n",
              "          if (!dataTable) return;\n",
              "\n",
              "          const docLinkHtml = 'Like what you see? Visit the ' +\n",
              "            '<a target=\"_blank\" href=https://colab.research.google.com/notebooks/data_table.ipynb>data table notebook</a>'\n",
              "            + ' to learn more about interactive tables.';\n",
              "          element.innerHTML = '';\n",
              "          dataTable['output_type'] = 'display_data';\n",
              "          await google.colab.output.renderOutput(dataTable, element);\n",
              "          const docLink = document.createElement('div');\n",
              "          docLink.innerHTML = docLinkHtml;\n",
              "          element.appendChild(docLink);\n",
              "        }\n",
              "      </script>\n",
              "    </div>\n",
              "  </div>\n",
              "  "
            ]
          },
          "metadata": {},
          "execution_count": 210
        }
      ]
    },
    {
      "cell_type": "markdown",
      "source": [
        "Для полученных пропорций можно использовать критерий Хи-квадрат\n",
        "\n",
        "Гипотезы:\n",
        "\n",
        "**H0: между группами нет связи**\n",
        "\n",
        "**H1: группы связаны**\n",
        "\n",
        "**альфа = 0.05**"
      ],
      "metadata": {
        "id": "Ng70IpDkym7G"
      }
    },
    {
      "cell_type": "code",
      "source": [
        "data = np.array([[29872, 109643], [31295, 110963], [30863, 110582], \n",
        "                 [30949, 110634], [30979, 110716]])\n",
        "chi2, pval, dof, expected = ss.chi2_contingency(data)\n",
        "print(chi2, pval, dof, sep='\\n')"
      ],
      "metadata": {
        "colab": {
          "base_uri": "https://localhost:8080/"
        },
        "id": "HZZFUP6HzKJd",
        "outputId": "9bdb24c9-7a04-4628-dbd0-c09295ad2a10"
      },
      "execution_count": null,
      "outputs": [
        {
          "output_type": "stream",
          "name": "stdout",
          "text": [
            "16.2924826993011\n",
            "0.002650787969462448\n",
            "4\n"
          ]
        }
      ]
    },
    {
      "cell_type": "markdown",
      "source": [
        "Так как p-value меньше альфа, следовательно H0 отвергается. Далее проверим все комбинации. \n",
        "\n",
        "**H0: между группами нет связи**\n",
        "\n",
        "**H1: группы связаны**\n",
        "\n",
        "**альфа = 0.005** с учетом поправки "
      ],
      "metadata": {
        "id": "ZRzOczh01ukE"
      }
    },
    {
      "cell_type": "code",
      "source": [
        "cr = cr.set_index('tag')"
      ],
      "metadata": {
        "id": "fZyD4YBb5akz"
      },
      "execution_count": null,
      "outputs": []
    },
    {
      "cell_type": "code",
      "source": [
        "alpha = 0.005\n",
        "all_combinations = list(combinations(cr.index, 2))\n",
        "for comb in all_combinations:\n",
        "    # переберем все комбинации из all_combinations\n",
        "    new_cr = cr[(cr.index == comb[0]) | (cr.index == comb[1])]\n",
        "    # тест\n",
        "    chi2, p, dof, ex = ss.chi2_contingency(new_cr)\n",
        "    if alpha > p:\n",
        "        result = 'H0 отвергается'\n",
        "    else:\n",
        "        result = 'H0 не отвергается'\n",
        "    print(f\"pair {comb}, p-value: {p}, {result}\")"
      ],
      "metadata": {
        "colab": {
          "base_uri": "https://localhost:8080/"
        },
        "id": "IZrFBYO21TFd",
        "outputId": "0863e6ed-1e6d-4c17-bad9-0c4eff46317e"
      },
      "execution_count": null,
      "outputs": [
        {
          "output_type": "stream",
          "name": "stdout",
          "text": [
            "pair ('control', 'test1'), p-value: 0.0001585826482923891, H0 отвергается\n",
            "pair ('control', 'test2'), p-value: 0.008657536115884814, H0 не отвергается\n",
            "pair ('control', 'test3'), p-value: 0.0039871914185719065, H0 отвергается\n",
            "pair ('control', 'test4'), p-value: 0.003675888260781385, H0 отвергается\n",
            "pair ('test1', 'test2'), p-value: 0.2510568174514345, H0 не отвергается\n",
            "pair ('test1', 'test3'), p-value: 0.3715549244020102, H0 не отвергается\n",
            "pair ('test1', 'test4'), p-value: 0.38504326056949345, H0 не отвергается\n",
            "pair ('test2', 'test3'), p-value: 0.8028999349248603, H0 не отвергается\n",
            "pair ('test2', 'test4'), p-value: 0.78353616700489, H0 не отвергается\n",
            "pair ('test3', 'test4'), p-value: 0.9836230429461187, H0 не отвергается\n"
          ]
        }
      ]
    },
    {
      "cell_type": "markdown",
      "source": [
        "Можно заметить, что второй раз не отвергаем H0 контрольной группой и test2.\n",
        "\n"
      ],
      "metadata": {
        "id": "JR0UFgeo-Opu"
      }
    },
    {
      "cell_type": "markdown",
      "source": [
        "## APC \n",
        "Посчитаем заодно среднее число покупок на пользователя:\n",
        "\n",
        "`число покупок/число пользоваталей`"
      ],
      "metadata": {
        "id": "wjrYEa2XxpYf"
      }
    },
    {
      "cell_type": "code",
      "source": [
        "final_table['purhc'] = final_table['price'].apply(lambda x: x > 0)"
      ],
      "metadata": {
        "id": "2VBflsgOvlel"
      },
      "execution_count": null,
      "outputs": []
    },
    {
      "cell_type": "code",
      "source": [
        "final_table.head(3)"
      ],
      "metadata": {
        "colab": {
          "base_uri": "https://localhost:8080/",
          "height": 143
        },
        "id": "V9tVHyeav9X2",
        "outputId": "22457e78-73d3-4ab9-9503-61015678a0e0"
      },
      "execution_count": null,
      "outputs": [
        {
          "output_type": "execute_result",
          "data": {
            "text/plain": [
              "       tag                          user_uid consumption_mode      price  \\\n",
              "0    test4  001885550d78efd82c0f5cc02ad3369a              NaN   0.000000   \n",
              "1  control  deb7d0e9bf9813d4f21b579d3703c6e1             rent  25.647059   \n",
              "2  control  deb7d0e9bf9813d4f21b579d3703c6e1     subscription  50.352941   \n",
              "\n",
              "   purhc  \n",
              "0  False  \n",
              "1   True  \n",
              "2   True  "
            ],
            "text/html": [
              "\n",
              "  <div id=\"df-4e31092b-77b9-4b2a-9d35-5cf431091015\">\n",
              "    <div class=\"colab-df-container\">\n",
              "      <div>\n",
              "<style scoped>\n",
              "    .dataframe tbody tr th:only-of-type {\n",
              "        vertical-align: middle;\n",
              "    }\n",
              "\n",
              "    .dataframe tbody tr th {\n",
              "        vertical-align: top;\n",
              "    }\n",
              "\n",
              "    .dataframe thead th {\n",
              "        text-align: right;\n",
              "    }\n",
              "</style>\n",
              "<table border=\"1\" class=\"dataframe\">\n",
              "  <thead>\n",
              "    <tr style=\"text-align: right;\">\n",
              "      <th></th>\n",
              "      <th>tag</th>\n",
              "      <th>user_uid</th>\n",
              "      <th>consumption_mode</th>\n",
              "      <th>price</th>\n",
              "      <th>purhc</th>\n",
              "    </tr>\n",
              "  </thead>\n",
              "  <tbody>\n",
              "    <tr>\n",
              "      <th>0</th>\n",
              "      <td>test4</td>\n",
              "      <td>001885550d78efd82c0f5cc02ad3369a</td>\n",
              "      <td>NaN</td>\n",
              "      <td>0.000000</td>\n",
              "      <td>False</td>\n",
              "    </tr>\n",
              "    <tr>\n",
              "      <th>1</th>\n",
              "      <td>control</td>\n",
              "      <td>deb7d0e9bf9813d4f21b579d3703c6e1</td>\n",
              "      <td>rent</td>\n",
              "      <td>25.647059</td>\n",
              "      <td>True</td>\n",
              "    </tr>\n",
              "    <tr>\n",
              "      <th>2</th>\n",
              "      <td>control</td>\n",
              "      <td>deb7d0e9bf9813d4f21b579d3703c6e1</td>\n",
              "      <td>subscription</td>\n",
              "      <td>50.352941</td>\n",
              "      <td>True</td>\n",
              "    </tr>\n",
              "  </tbody>\n",
              "</table>\n",
              "</div>\n",
              "      <button class=\"colab-df-convert\" onclick=\"convertToInteractive('df-4e31092b-77b9-4b2a-9d35-5cf431091015')\"\n",
              "              title=\"Convert this dataframe to an interactive table.\"\n",
              "              style=\"display:none;\">\n",
              "        \n",
              "  <svg xmlns=\"http://www.w3.org/2000/svg\" height=\"24px\"viewBox=\"0 0 24 24\"\n",
              "       width=\"24px\">\n",
              "    <path d=\"M0 0h24v24H0V0z\" fill=\"none\"/>\n",
              "    <path d=\"M18.56 5.44l.94 2.06.94-2.06 2.06-.94-2.06-.94-.94-2.06-.94 2.06-2.06.94zm-11 1L8.5 8.5l.94-2.06 2.06-.94-2.06-.94L8.5 2.5l-.94 2.06-2.06.94zm10 10l.94 2.06.94-2.06 2.06-.94-2.06-.94-.94-2.06-.94 2.06-2.06.94z\"/><path d=\"M17.41 7.96l-1.37-1.37c-.4-.4-.92-.59-1.43-.59-.52 0-1.04.2-1.43.59L10.3 9.45l-7.72 7.72c-.78.78-.78 2.05 0 2.83L4 21.41c.39.39.9.59 1.41.59.51 0 1.02-.2 1.41-.59l7.78-7.78 2.81-2.81c.8-.78.8-2.07 0-2.86zM5.41 20L4 18.59l7.72-7.72 1.47 1.35L5.41 20z\"/>\n",
              "  </svg>\n",
              "      </button>\n",
              "      \n",
              "  <style>\n",
              "    .colab-df-container {\n",
              "      display:flex;\n",
              "      flex-wrap:wrap;\n",
              "      gap: 12px;\n",
              "    }\n",
              "\n",
              "    .colab-df-convert {\n",
              "      background-color: #E8F0FE;\n",
              "      border: none;\n",
              "      border-radius: 50%;\n",
              "      cursor: pointer;\n",
              "      display: none;\n",
              "      fill: #1967D2;\n",
              "      height: 32px;\n",
              "      padding: 0 0 0 0;\n",
              "      width: 32px;\n",
              "    }\n",
              "\n",
              "    .colab-df-convert:hover {\n",
              "      background-color: #E2EBFA;\n",
              "      box-shadow: 0px 1px 2px rgba(60, 64, 67, 0.3), 0px 1px 3px 1px rgba(60, 64, 67, 0.15);\n",
              "      fill: #174EA6;\n",
              "    }\n",
              "\n",
              "    [theme=dark] .colab-df-convert {\n",
              "      background-color: #3B4455;\n",
              "      fill: #D2E3FC;\n",
              "    }\n",
              "\n",
              "    [theme=dark] .colab-df-convert:hover {\n",
              "      background-color: #434B5C;\n",
              "      box-shadow: 0px 1px 3px 1px rgba(0, 0, 0, 0.15);\n",
              "      filter: drop-shadow(0px 1px 2px rgba(0, 0, 0, 0.3));\n",
              "      fill: #FFFFFF;\n",
              "    }\n",
              "  </style>\n",
              "\n",
              "      <script>\n",
              "        const buttonEl =\n",
              "          document.querySelector('#df-4e31092b-77b9-4b2a-9d35-5cf431091015 button.colab-df-convert');\n",
              "        buttonEl.style.display =\n",
              "          google.colab.kernel.accessAllowed ? 'block' : 'none';\n",
              "\n",
              "        async function convertToInteractive(key) {\n",
              "          const element = document.querySelector('#df-4e31092b-77b9-4b2a-9d35-5cf431091015');\n",
              "          const dataTable =\n",
              "            await google.colab.kernel.invokeFunction('convertToInteractive',\n",
              "                                                     [key], {});\n",
              "          if (!dataTable) return;\n",
              "\n",
              "          const docLinkHtml = 'Like what you see? Visit the ' +\n",
              "            '<a target=\"_blank\" href=https://colab.research.google.com/notebooks/data_table.ipynb>data table notebook</a>'\n",
              "            + ' to learn more about interactive tables.';\n",
              "          element.innerHTML = '';\n",
              "          dataTable['output_type'] = 'display_data';\n",
              "          await google.colab.output.renderOutput(dataTable, element);\n",
              "          const docLink = document.createElement('div');\n",
              "          docLink.innerHTML = docLinkHtml;\n",
              "          element.appendChild(docLink);\n",
              "        }\n",
              "      </script>\n",
              "    </div>\n",
              "  </div>\n",
              "  "
            ]
          },
          "metadata": {},
          "execution_count": 215
        }
      ]
    },
    {
      "cell_type": "code",
      "source": [
        "all_purch = final_table.groupby('tag', as_index=False).agg({'purhc': 'sum'})"
      ],
      "metadata": {
        "id": "SXj5pqmvw4n-"
      },
      "execution_count": null,
      "outputs": []
    },
    {
      "cell_type": "code",
      "source": [
        "apc = all_purch.merge(all_users, on='tag')"
      ],
      "metadata": {
        "id": "ZPWTXRbEw4qi"
      },
      "execution_count": null,
      "outputs": []
    },
    {
      "cell_type": "code",
      "source": [
        "apc"
      ],
      "metadata": {
        "colab": {
          "base_uri": "https://localhost:8080/",
          "height": 206
        },
        "id": "8lGRBjb9CGmO",
        "outputId": "8a61e145-a902-453d-a5cb-5d6cacc863fa"
      },
      "execution_count": null,
      "outputs": [
        {
          "output_type": "execute_result",
          "data": {
            "text/plain": [
              "       tag  purhc  all_users\n",
              "0  control  52688     109643\n",
              "1    test1  56357     110963\n",
              "2    test2  55707     110582\n",
              "3    test3  56027     110634\n",
              "4    test4  55999     110716"
            ],
            "text/html": [
              "\n",
              "  <div id=\"df-a7c4d27b-61e9-4bb4-97bb-1b63ad156e3f\">\n",
              "    <div class=\"colab-df-container\">\n",
              "      <div>\n",
              "<style scoped>\n",
              "    .dataframe tbody tr th:only-of-type {\n",
              "        vertical-align: middle;\n",
              "    }\n",
              "\n",
              "    .dataframe tbody tr th {\n",
              "        vertical-align: top;\n",
              "    }\n",
              "\n",
              "    .dataframe thead th {\n",
              "        text-align: right;\n",
              "    }\n",
              "</style>\n",
              "<table border=\"1\" class=\"dataframe\">\n",
              "  <thead>\n",
              "    <tr style=\"text-align: right;\">\n",
              "      <th></th>\n",
              "      <th>tag</th>\n",
              "      <th>purhc</th>\n",
              "      <th>all_users</th>\n",
              "    </tr>\n",
              "  </thead>\n",
              "  <tbody>\n",
              "    <tr>\n",
              "      <th>0</th>\n",
              "      <td>control</td>\n",
              "      <td>52688</td>\n",
              "      <td>109643</td>\n",
              "    </tr>\n",
              "    <tr>\n",
              "      <th>1</th>\n",
              "      <td>test1</td>\n",
              "      <td>56357</td>\n",
              "      <td>110963</td>\n",
              "    </tr>\n",
              "    <tr>\n",
              "      <th>2</th>\n",
              "      <td>test2</td>\n",
              "      <td>55707</td>\n",
              "      <td>110582</td>\n",
              "    </tr>\n",
              "    <tr>\n",
              "      <th>3</th>\n",
              "      <td>test3</td>\n",
              "      <td>56027</td>\n",
              "      <td>110634</td>\n",
              "    </tr>\n",
              "    <tr>\n",
              "      <th>4</th>\n",
              "      <td>test4</td>\n",
              "      <td>55999</td>\n",
              "      <td>110716</td>\n",
              "    </tr>\n",
              "  </tbody>\n",
              "</table>\n",
              "</div>\n",
              "      <button class=\"colab-df-convert\" onclick=\"convertToInteractive('df-a7c4d27b-61e9-4bb4-97bb-1b63ad156e3f')\"\n",
              "              title=\"Convert this dataframe to an interactive table.\"\n",
              "              style=\"display:none;\">\n",
              "        \n",
              "  <svg xmlns=\"http://www.w3.org/2000/svg\" height=\"24px\"viewBox=\"0 0 24 24\"\n",
              "       width=\"24px\">\n",
              "    <path d=\"M0 0h24v24H0V0z\" fill=\"none\"/>\n",
              "    <path d=\"M18.56 5.44l.94 2.06.94-2.06 2.06-.94-2.06-.94-.94-2.06-.94 2.06-2.06.94zm-11 1L8.5 8.5l.94-2.06 2.06-.94-2.06-.94L8.5 2.5l-.94 2.06-2.06.94zm10 10l.94 2.06.94-2.06 2.06-.94-2.06-.94-.94-2.06-.94 2.06-2.06.94z\"/><path d=\"M17.41 7.96l-1.37-1.37c-.4-.4-.92-.59-1.43-.59-.52 0-1.04.2-1.43.59L10.3 9.45l-7.72 7.72c-.78.78-.78 2.05 0 2.83L4 21.41c.39.39.9.59 1.41.59.51 0 1.02-.2 1.41-.59l7.78-7.78 2.81-2.81c.8-.78.8-2.07 0-2.86zM5.41 20L4 18.59l7.72-7.72 1.47 1.35L5.41 20z\"/>\n",
              "  </svg>\n",
              "      </button>\n",
              "      \n",
              "  <style>\n",
              "    .colab-df-container {\n",
              "      display:flex;\n",
              "      flex-wrap:wrap;\n",
              "      gap: 12px;\n",
              "    }\n",
              "\n",
              "    .colab-df-convert {\n",
              "      background-color: #E8F0FE;\n",
              "      border: none;\n",
              "      border-radius: 50%;\n",
              "      cursor: pointer;\n",
              "      display: none;\n",
              "      fill: #1967D2;\n",
              "      height: 32px;\n",
              "      padding: 0 0 0 0;\n",
              "      width: 32px;\n",
              "    }\n",
              "\n",
              "    .colab-df-convert:hover {\n",
              "      background-color: #E2EBFA;\n",
              "      box-shadow: 0px 1px 2px rgba(60, 64, 67, 0.3), 0px 1px 3px 1px rgba(60, 64, 67, 0.15);\n",
              "      fill: #174EA6;\n",
              "    }\n",
              "\n",
              "    [theme=dark] .colab-df-convert {\n",
              "      background-color: #3B4455;\n",
              "      fill: #D2E3FC;\n",
              "    }\n",
              "\n",
              "    [theme=dark] .colab-df-convert:hover {\n",
              "      background-color: #434B5C;\n",
              "      box-shadow: 0px 1px 3px 1px rgba(0, 0, 0, 0.15);\n",
              "      filter: drop-shadow(0px 1px 2px rgba(0, 0, 0, 0.3));\n",
              "      fill: #FFFFFF;\n",
              "    }\n",
              "  </style>\n",
              "\n",
              "      <script>\n",
              "        const buttonEl =\n",
              "          document.querySelector('#df-a7c4d27b-61e9-4bb4-97bb-1b63ad156e3f button.colab-df-convert');\n",
              "        buttonEl.style.display =\n",
              "          google.colab.kernel.accessAllowed ? 'block' : 'none';\n",
              "\n",
              "        async function convertToInteractive(key) {\n",
              "          const element = document.querySelector('#df-a7c4d27b-61e9-4bb4-97bb-1b63ad156e3f');\n",
              "          const dataTable =\n",
              "            await google.colab.kernel.invokeFunction('convertToInteractive',\n",
              "                                                     [key], {});\n",
              "          if (!dataTable) return;\n",
              "\n",
              "          const docLinkHtml = 'Like what you see? Visit the ' +\n",
              "            '<a target=\"_blank\" href=https://colab.research.google.com/notebooks/data_table.ipynb>data table notebook</a>'\n",
              "            + ' to learn more about interactive tables.';\n",
              "          element.innerHTML = '';\n",
              "          dataTable['output_type'] = 'display_data';\n",
              "          await google.colab.output.renderOutput(dataTable, element);\n",
              "          const docLink = document.createElement('div');\n",
              "          docLink.innerHTML = docLinkHtml;\n",
              "          element.appendChild(docLink);\n",
              "        }\n",
              "      </script>\n",
              "    </div>\n",
              "  </div>\n",
              "  "
            ]
          },
          "metadata": {},
          "execution_count": 218
        }
      ]
    },
    {
      "cell_type": "markdown",
      "source": [
        "Также воспользуемся критерием хи квадрат, как и в случае с конверсией.\n",
        "\n",
        "Гипотезы:\n",
        "\n",
        "**H0: между группами нет связи**\n",
        "\n",
        "**H1: группы связаны**\n",
        "\n",
        "**альфа = 0.05**"
      ],
      "metadata": {
        "id": "yglJPrcKys3R"
      }
    },
    {
      "cell_type": "code",
      "source": [
        "data2 = np.array([[52688, 109643], [56357, 110963], [55707, 110582], \n",
        "                 [56027, 110634], [55999, 110716]])\n",
        "chi2, pval, dof, expected = ss.chi2_contingency(data2)\n",
        "print(chi2, pval, dof, sep='\\n')"
      ],
      "metadata": {
        "colab": {
          "base_uri": "https://localhost:8080/"
        },
        "id": "Hk69su0xw4tf",
        "outputId": "63cac69c-b2e1-439b-f5af-df50bf562096"
      },
      "execution_count": null,
      "outputs": [
        {
          "output_type": "stream",
          "name": "stdout",
          "text": [
            "77.63038163438124\n",
            "5.531279643339472e-16\n",
            "4\n"
          ]
        }
      ]
    },
    {
      "cell_type": "markdown",
      "source": [
        "H0 отвергается, т.к. p-value меньше вероятности ошибки первого рода. Проверим комбинации:\n",
        "\n",
        "**H0: между группами нет связи**\n",
        "\n",
        "**H1: группы связаны**\n",
        "\n",
        "**альфа = 0.005** с учетом поправки "
      ],
      "metadata": {
        "id": "s0qpSjE4tPje"
      }
    },
    {
      "cell_type": "code",
      "source": [
        "apc = apc.set_index('tag')\n",
        "alpha = 0.005\n",
        "all_combinations = list(combinations(apc.index, 2))\n",
        "for comb in all_combinations:\n",
        "    # переберем все комбинации из all_combinations\n",
        "    new_apc = apc[(apc.index == comb[0]) | (apc.index == comb[1])]\n",
        "    # тест\n",
        "    chi2, p, dof, ex = ss.chi2_contingency(new_apc)\n",
        "    if alpha > p:\n",
        "        result = 'H0 отвергается'\n",
        "    else:\n",
        "        result = 'H0 не отвергается'\n",
        "    print(f\"pair {comb}, p-value: {p}, {result}\")"
      ],
      "metadata": {
        "colab": {
          "base_uri": "https://localhost:8080/"
        },
        "id": "weTt7M4yCa5T",
        "outputId": "9d878593-7014-4b9c-a2a0-d2ef13a23c98"
      },
      "execution_count": null,
      "outputs": [
        {
          "output_type": "stream",
          "name": "stdout",
          "text": [
            "pair ('control', 'test1'), p-value: 8.019703995110705e-14, H0 отвергается\n",
            "pair ('control', 'test2'), p-value: 2.0952486662679698e-10, H0 отвергается\n",
            "pair ('control', 'test3'), p-value: 1.555168594928527e-12, H0 отвергается\n",
            "pair ('control', 'test4'), p-value: 5.127819574273687e-12, H0 отвергается\n",
            "pair ('test1', 'test2'), p-value: 0.26721177108416283, H0 не отвергается\n",
            "pair ('test1', 'test3'), p-value: 0.6945045882134433, H0 не отвергается\n",
            "pair ('test1', 'test4'), p-value: 0.5740149340255365, H0 не отвергается\n",
            "pair ('test2', 'test3'), p-value: 0.47608754915861784, H0 не отвергается\n",
            "pair ('test2', 'test4'), p-value: 0.5867430955978509, H0 не отвергается\n",
            "pair ('test3', 'test4'), p-value: 0.8685239918225729, H0 не отвергается\n"
          ]
        }
      ]
    },
    {
      "cell_type": "markdown",
      "source": [
        "В данном случае для всех комбинаций, в которых есть контрольная группа, H0 отвергается"
      ],
      "metadata": {
        "id": "yr8gYicPCryC"
      }
    },
    {
      "cell_type": "markdown",
      "source": [
        "# Выводы\n",
        "В зависимости от целевых и стоп метрик, которые определяются до дизайна эксперимента, решается, выкатывать ли в прод изменения. Если целевая метрика средний чек, то определенно нет. Если ARPU - выкатываем. Аналогично и с другими метриками. \n",
        "\n",
        "Также необходимо в целом оценить картину по всем метрикам и в зависимости от этого принимать решение о раскатке. В целом, изменения положительные. Но я бы починил систему сплитования)"
      ],
      "metadata": {
        "id": "IhR2BSuhFAgb"
      }
    }
  ],
  "metadata": {
    "colab": {
      "provenance": []
    },
    "kernelspec": {
      "display_name": "Python 3 (ipykernel)",
      "language": "python",
      "name": "python3"
    },
    "language_info": {
      "codemirror_mode": {
        "name": "ipython",
        "version": 3
      },
      "file_extension": ".py",
      "mimetype": "text/x-python",
      "name": "python",
      "nbconvert_exporter": "python",
      "pygments_lexer": "ipython3",
      "version": "3.10.8"
    },
    "nteract": {
      "version": "0.28.0"
    }
  },
  "nbformat": 4,
  "nbformat_minor": 0
}